{
  "cells": [
    {
      "cell_type": "code",
      "execution_count": null,
      "id": "3I7KhMfyiYcU",
      "metadata": {
        "colab": {
          "base_uri": "https://localhost:8080/"
        },
        "id": "3I7KhMfyiYcU",
        "outputId": "a498790a-0a0a-4c42-b2bd-f7c0c1bf6a38"
      },
      "outputs": [
        {
          "output_type": "stream",
          "name": "stdout",
          "text": [
            "Looking in indexes: https://pypi.org/simple, https://us-python.pkg.dev/colab-wheels/public/simple/\n",
            "Collecting qiskit\n",
            "  Downloading qiskit-0.37.2.tar.gz (13 kB)\n",
            "Collecting qiskit-terra==0.21.2\n",
            "  Downloading qiskit_terra-0.21.2-cp37-cp37m-manylinux_2_17_x86_64.manylinux2014_x86_64.whl (6.7 MB)\n",
            "\u001b[K     |████████████████████████████████| 6.7 MB 5.0 MB/s \n",
            "\u001b[?25hCollecting qiskit-aer==0.10.4\n",
            "  Downloading qiskit_aer-0.10.4-cp37-cp37m-manylinux_2_12_x86_64.manylinux2010_x86_64.whl (18.0 MB)\n",
            "\u001b[K     |████████████████████████████████| 18.0 MB 395 kB/s \n",
            "\u001b[?25hCollecting qiskit-ibmq-provider==0.19.2\n",
            "  Downloading qiskit_ibmq_provider-0.19.2-py3-none-any.whl (240 kB)\n",
            "\u001b[K     |████████████████████████████████| 240 kB 57.0 MB/s \n",
            "\u001b[?25hRequirement already satisfied: scipy>=1.0 in /usr/local/lib/python3.7/dist-packages (from qiskit-aer==0.10.4->qiskit) (1.7.3)\n",
            "Requirement already satisfied: numpy>=1.16.3 in /usr/local/lib/python3.7/dist-packages (from qiskit-aer==0.10.4->qiskit) (1.21.6)\n",
            "Collecting websocket-client>=1.0.1\n",
            "  Downloading websocket_client-1.4.1-py3-none-any.whl (55 kB)\n",
            "\u001b[K     |████████████████████████████████| 55 kB 3.4 MB/s \n",
            "\u001b[?25hRequirement already satisfied: requests>=2.19 in /usr/local/lib/python3.7/dist-packages (from qiskit-ibmq-provider==0.19.2->qiskit) (2.23.0)\n",
            "Collecting websockets>=10.0\n",
            "  Downloading websockets-10.3-cp37-cp37m-manylinux_2_5_x86_64.manylinux1_x86_64.manylinux_2_12_x86_64.manylinux2010_x86_64.whl (112 kB)\n",
            "\u001b[K     |████████████████████████████████| 112 kB 69.2 MB/s \n",
            "\u001b[?25hRequirement already satisfied: urllib3>=1.21.1 in /usr/local/lib/python3.7/dist-packages (from qiskit-ibmq-provider==0.19.2->qiskit) (1.24.3)\n",
            "Requirement already satisfied: python-dateutil>=2.8.0 in /usr/local/lib/python3.7/dist-packages (from qiskit-ibmq-provider==0.19.2->qiskit) (2.8.2)\n",
            "Collecting requests-ntlm>=1.1.0\n",
            "  Downloading requests_ntlm-1.1.0-py2.py3-none-any.whl (5.7 kB)\n",
            "Collecting ply>=3.10\n",
            "  Downloading ply-3.11-py2.py3-none-any.whl (49 kB)\n",
            "\u001b[K     |████████████████████████████████| 49 kB 6.5 MB/s \n",
            "\u001b[?25hCollecting retworkx>=0.11.0\n",
            "  Downloading retworkx-0.11.0-cp37-cp37m-manylinux_2_5_x86_64.manylinux1_x86_64.manylinux_2_12_x86_64.manylinux2010_x86_64.whl (1.6 MB)\n",
            "\u001b[K     |████████████████████████████████| 1.6 MB 66.6 MB/s \n",
            "\u001b[?25hRequirement already satisfied: psutil>=5 in /usr/local/lib/python3.7/dist-packages (from qiskit-terra==0.21.2->qiskit) (5.4.8)\n",
            "Requirement already satisfied: dill>=0.3 in /usr/local/lib/python3.7/dist-packages (from qiskit-terra==0.21.2->qiskit) (0.3.5.1)\n",
            "Collecting stevedore>=3.0.0\n",
            "  Downloading stevedore-3.5.0-py3-none-any.whl (49 kB)\n",
            "\u001b[K     |████████████████████████████████| 49 kB 6.7 MB/s \n",
            "\u001b[?25hRequirement already satisfied: typing-extensions in /usr/local/lib/python3.7/dist-packages (from qiskit-terra==0.21.2->qiskit) (4.1.1)\n",
            "Collecting shared-memory38\n",
            "  Downloading shared_memory38-0.1.2-cp37-cp37m-manylinux_2_5_x86_64.manylinux1_x86_64.whl (25 kB)\n",
            "Collecting symengine>=0.9\n",
            "  Downloading symengine-0.9.2-cp37-cp37m-manylinux2010_x86_64.whl (37.5 MB)\n",
            "\u001b[K     |████████████████████████████████| 37.5 MB 42 kB/s \n",
            "\u001b[?25hRequirement already satisfied: sympy>=1.3 in /usr/local/lib/python3.7/dist-packages (from qiskit-terra==0.21.2->qiskit) (1.7.1)\n",
            "Collecting tweedledum<2.0,>=1.1\n",
            "  Downloading tweedledum-1.1.1-cp37-cp37m-manylinux_2_12_x86_64.manylinux2010_x86_64.whl (943 kB)\n",
            "\u001b[K     |████████████████████████████████| 943 kB 54.8 MB/s \n",
            "\u001b[?25hRequirement already satisfied: six>=1.5 in /usr/local/lib/python3.7/dist-packages (from python-dateutil>=2.8.0->qiskit-ibmq-provider==0.19.2->qiskit) (1.15.0)\n",
            "Requirement already satisfied: chardet<4,>=3.0.2 in /usr/local/lib/python3.7/dist-packages (from requests>=2.19->qiskit-ibmq-provider==0.19.2->qiskit) (3.0.4)\n",
            "Requirement already satisfied: certifi>=2017.4.17 in /usr/local/lib/python3.7/dist-packages (from requests>=2.19->qiskit-ibmq-provider==0.19.2->qiskit) (2022.6.15)\n",
            "Requirement already satisfied: idna<3,>=2.5 in /usr/local/lib/python3.7/dist-packages (from requests>=2.19->qiskit-ibmq-provider==0.19.2->qiskit) (2.10)\n",
            "Collecting ntlm-auth>=1.0.2\n",
            "  Downloading ntlm_auth-1.5.0-py2.py3-none-any.whl (29 kB)\n",
            "Collecting cryptography>=1.3\n",
            "  Downloading cryptography-38.0.1-cp36-abi3-manylinux_2_24_x86_64.whl (4.0 MB)\n",
            "\u001b[K     |████████████████████████████████| 4.0 MB 28.4 MB/s \n",
            "\u001b[?25hRequirement already satisfied: cffi>=1.12 in /usr/local/lib/python3.7/dist-packages (from cryptography>=1.3->requests-ntlm>=1.1.0->qiskit-ibmq-provider==0.19.2->qiskit) (1.15.1)\n",
            "Requirement already satisfied: pycparser in /usr/local/lib/python3.7/dist-packages (from cffi>=1.12->cryptography>=1.3->requests-ntlm>=1.1.0->qiskit-ibmq-provider==0.19.2->qiskit) (2.21)\n",
            "Requirement already satisfied: importlib-metadata>=1.7.0 in /usr/local/lib/python3.7/dist-packages (from stevedore>=3.0.0->qiskit-terra==0.21.2->qiskit) (4.12.0)\n",
            "Collecting pbr!=2.1.0,>=2.0.0\n",
            "  Downloading pbr-5.10.0-py2.py3-none-any.whl (112 kB)\n",
            "\u001b[K     |████████████████████████████████| 112 kB 50.9 MB/s \n",
            "\u001b[?25hRequirement already satisfied: zipp>=0.5 in /usr/local/lib/python3.7/dist-packages (from importlib-metadata>=1.7.0->stevedore>=3.0.0->qiskit-terra==0.21.2->qiskit) (3.8.1)\n",
            "Requirement already satisfied: mpmath>=0.19 in /usr/local/lib/python3.7/dist-packages (from sympy>=1.3->qiskit-terra==0.21.2->qiskit) (1.2.1)\n",
            "Building wheels for collected packages: qiskit\n",
            "  Building wheel for qiskit (setup.py) ... \u001b[?25l\u001b[?25hdone\n",
            "  Created wheel for qiskit: filename=qiskit-0.37.2-py3-none-any.whl size=12109 sha256=f340c82c449953333b3bbeea6e4895ce9046e99df9c6029be93201b54f5cde51\n",
            "  Stored in directory: /root/.cache/pip/wheels/e6/bd/f3/26c31cfff4a3dbacb1256e46bbe47b658e80aeae833972c757\n",
            "Successfully built qiskit\n",
            "Installing collected packages: pbr, tweedledum, symengine, stevedore, shared-memory38, retworkx, ply, ntlm-auth, cryptography, websockets, websocket-client, requests-ntlm, qiskit-terra, qiskit-ibmq-provider, qiskit-aer, qiskit\n",
            "Successfully installed cryptography-38.0.1 ntlm-auth-1.5.0 pbr-5.10.0 ply-3.11 qiskit-0.37.2 qiskit-aer-0.10.4 qiskit-ibmq-provider-0.19.2 qiskit-terra-0.21.2 requests-ntlm-1.1.0 retworkx-0.11.0 shared-memory38-0.1.2 stevedore-3.5.0 symengine-0.9.2 tweedledum-1.1.1 websocket-client-1.4.1 websockets-10.3\n"
          ]
        }
      ],
      "source": [
        "!pip install qiskit"
      ]
    },
    {
      "cell_type": "code",
      "execution_count": null,
      "id": "hSFpxNnqjEwC",
      "metadata": {
        "colab": {
          "base_uri": "https://localhost:8080/"
        },
        "id": "hSFpxNnqjEwC",
        "outputId": "7816ae4a-147d-42c2-dc19-05e4b4eef8a7"
      },
      "outputs": [
        {
          "output_type": "stream",
          "name": "stdout",
          "text": [
            "Looking in indexes: https://pypi.org/simple, https://us-python.pkg.dev/colab-wheels/public/simple/\n",
            "Collecting qiskit-finance\n",
            "  Downloading qiskit_finance-0.3.4-py3-none-any.whl (50 kB)\n",
            "\u001b[K     |████████████████████████████████| 50 kB 3.0 MB/s \n",
            "\u001b[?25hRequirement already satisfied: urllib3 in /usr/local/lib/python3.7/dist-packages (from qiskit-finance) (1.24.3)\n",
            "Requirement already satisfied: certifi in /usr/local/lib/python3.7/dist-packages (from qiskit-finance) (2022.6.15)\n",
            "Requirement already satisfied: setuptools>=40.1.0 in /usr/local/lib/python3.7/dist-packages (from qiskit-finance) (57.4.0)\n",
            "Requirement already satisfied: qiskit-terra>=0.20.0 in /usr/local/lib/python3.7/dist-packages (from qiskit-finance) (0.21.2)\n",
            "Requirement already satisfied: pandas in /usr/local/lib/python3.7/dist-packages (from qiskit-finance) (1.3.5)\n",
            "Requirement already satisfied: scipy>=1.4 in /usr/local/lib/python3.7/dist-packages (from qiskit-finance) (1.7.3)\n",
            "Requirement already satisfied: fastdtw in /usr/local/lib/python3.7/dist-packages (from qiskit-finance) (0.3.4)\n",
            "Requirement already satisfied: psutil>=5 in /usr/local/lib/python3.7/dist-packages (from qiskit-finance) (5.4.8)\n",
            "Requirement already satisfied: numpy>=1.17 in /usr/local/lib/python3.7/dist-packages (from qiskit-finance) (1.21.6)\n",
            "Collecting yfinance>=0.1.70\n",
            "  Downloading yfinance-0.1.74-py2.py3-none-any.whl (27 kB)\n",
            "Collecting nasdaq-data-link\n",
            "  Downloading Nasdaq_Data_Link-1.0.4-py2.py3-none-any.whl (28 kB)\n",
            "Collecting qiskit-optimization>=0.2.0\n",
            "  Downloading qiskit_optimization-0.4.0-py3-none-any.whl (159 kB)\n",
            "\u001b[K     |████████████████████████████████| 159 kB 9.5 MB/s \n",
            "\u001b[?25hCollecting docplex>=2.21.207\n",
            "  Downloading docplex-2.23.222.tar.gz (610 kB)\n",
            "\u001b[K     |████████████████████████████████| 610 kB 47.1 MB/s \n",
            "\u001b[?25hRequirement already satisfied: networkx>=2.2 in /usr/local/lib/python3.7/dist-packages (from qiskit-optimization>=0.2.0->qiskit-finance) (2.6.3)\n",
            "Requirement already satisfied: six in /usr/local/lib/python3.7/dist-packages (from docplex>=2.21.207->qiskit-optimization>=0.2.0->qiskit-finance) (1.15.0)\n",
            "Requirement already satisfied: tweedledum<2.0,>=1.1 in /usr/local/lib/python3.7/dist-packages (from qiskit-terra>=0.20.0->qiskit-finance) (1.1.1)\n",
            "Requirement already satisfied: retworkx>=0.11.0 in /usr/local/lib/python3.7/dist-packages (from qiskit-terra>=0.20.0->qiskit-finance) (0.11.0)\n",
            "Requirement already satisfied: stevedore>=3.0.0 in /usr/local/lib/python3.7/dist-packages (from qiskit-terra>=0.20.0->qiskit-finance) (3.5.0)\n",
            "Requirement already satisfied: symengine>=0.9 in /usr/local/lib/python3.7/dist-packages (from qiskit-terra>=0.20.0->qiskit-finance) (0.9.2)\n",
            "Requirement already satisfied: sympy>=1.3 in /usr/local/lib/python3.7/dist-packages (from qiskit-terra>=0.20.0->qiskit-finance) (1.7.1)\n",
            "Requirement already satisfied: dill>=0.3 in /usr/local/lib/python3.7/dist-packages (from qiskit-terra>=0.20.0->qiskit-finance) (0.3.5.1)\n",
            "Requirement already satisfied: shared-memory38 in /usr/local/lib/python3.7/dist-packages (from qiskit-terra>=0.20.0->qiskit-finance) (0.1.2)\n",
            "Requirement already satisfied: python-dateutil>=2.8.0 in /usr/local/lib/python3.7/dist-packages (from qiskit-terra>=0.20.0->qiskit-finance) (2.8.2)\n",
            "Requirement already satisfied: ply>=3.10 in /usr/local/lib/python3.7/dist-packages (from qiskit-terra>=0.20.0->qiskit-finance) (3.11)\n",
            "Requirement already satisfied: typing-extensions in /usr/local/lib/python3.7/dist-packages (from qiskit-terra>=0.20.0->qiskit-finance) (4.1.1)\n",
            "Requirement already satisfied: importlib-metadata>=1.7.0 in /usr/local/lib/python3.7/dist-packages (from stevedore>=3.0.0->qiskit-terra>=0.20.0->qiskit-finance) (4.12.0)\n",
            "Requirement already satisfied: pbr!=2.1.0,>=2.0.0 in /usr/local/lib/python3.7/dist-packages (from stevedore>=3.0.0->qiskit-terra>=0.20.0->qiskit-finance) (5.10.0)\n",
            "Requirement already satisfied: zipp>=0.5 in /usr/local/lib/python3.7/dist-packages (from importlib-metadata>=1.7.0->stevedore>=3.0.0->qiskit-terra>=0.20.0->qiskit-finance) (3.8.1)\n",
            "Requirement already satisfied: mpmath>=0.19 in /usr/local/lib/python3.7/dist-packages (from sympy>=1.3->qiskit-terra>=0.20.0->qiskit-finance) (1.2.1)\n",
            "Collecting requests>=2.26\n",
            "  Downloading requests-2.28.1-py3-none-any.whl (62 kB)\n",
            "\u001b[K     |████████████████████████████████| 62 kB 1.4 MB/s \n",
            "\u001b[?25hRequirement already satisfied: multitasking>=0.0.7 in /usr/local/lib/python3.7/dist-packages (from yfinance>=0.1.70->qiskit-finance) (0.0.11)\n",
            "Requirement already satisfied: lxml>=4.5.1 in /usr/local/lib/python3.7/dist-packages (from yfinance>=0.1.70->qiskit-finance) (4.9.1)\n",
            "Requirement already satisfied: pytz>=2017.3 in /usr/local/lib/python3.7/dist-packages (from pandas->qiskit-finance) (2022.2.1)\n",
            "Requirement already satisfied: charset-normalizer<3,>=2 in /usr/local/lib/python3.7/dist-packages (from requests>=2.26->yfinance>=0.1.70->qiskit-finance) (2.1.1)\n",
            "Requirement already satisfied: idna<4,>=2.5 in /usr/local/lib/python3.7/dist-packages (from requests>=2.26->yfinance>=0.1.70->qiskit-finance) (2.10)\n",
            "Collecting inflection>=0.3.1\n",
            "  Downloading inflection-0.5.1-py2.py3-none-any.whl (9.5 kB)\n",
            "Requirement already satisfied: more-itertools in /usr/local/lib/python3.7/dist-packages (from nasdaq-data-link->qiskit-finance) (8.14.0)\n",
            "Building wheels for collected packages: docplex\n",
            "  Building wheel for docplex (setup.py) ... \u001b[?25l\u001b[?25hdone\n",
            "  Created wheel for docplex: filename=docplex-2.23.222-py3-none-any.whl size=662847 sha256=3f61c4436b9dd031b4175586218c8ab5704f8912a14cb513271fc06a1e81152c\n",
            "  Stored in directory: /root/.cache/pip/wheels/a7/c9/fb/cee5a89f304e77a39c466e625ac2830434b76eb8384999d116\n",
            "Successfully built docplex\n",
            "Installing collected packages: requests, inflection, docplex, yfinance, qiskit-optimization, nasdaq-data-link, qiskit-finance\n",
            "  Attempting uninstall: requests\n",
            "    Found existing installation: requests 2.23.0\n",
            "    Uninstalling requests-2.23.0:\n",
            "      Successfully uninstalled requests-2.23.0\n",
            "Successfully installed docplex-2.23.222 inflection-0.5.1 nasdaq-data-link-1.0.4 qiskit-finance-0.3.4 qiskit-optimization-0.4.0 requests-2.28.1 yfinance-0.1.74\n"
          ]
        }
      ],
      "source": [
        "!pip install qiskit-finance"
      ]
    },
    {
      "cell_type": "code",
      "execution_count": null,
      "id": "a3ca350e",
      "metadata": {
        "id": "a3ca350e"
      },
      "outputs": [],
      "source": [
        "#importing the required stuff\n",
        "from qiskit import Aer\n",
        "from qiskit.algorithms import VQE, QAOA, NumPyMinimumEigensolver\n",
        "from qiskit.algorithms.optimizers import COBYLA\n",
        "from qiskit.circuit.library import TwoLocal\n",
        "from qiskit.utils import QuantumInstance\n",
        "from qiskit_finance.applications.optimization import PortfolioOptimization\n",
        "from qiskit_finance.data_providers import *\n",
        "from qiskit_finance import QiskitFinanceError\n",
        "from qiskit_optimization.algorithms import MinimumEigenOptimizer\n",
        "from qiskit_optimization.applications import OptimizationApplication\n",
        "from qiskit_optimization.converters import QuadraticProgramToQubo\n",
        "import numpy as np\n",
        "import matplotlib.pyplot as plt\n",
        "\n",
        "import datetime\n",
        "import pandas as pd\n",
        "from pandas.plotting import register_matplotlib_converters\n",
        "register_matplotlib_converters()\n",
        "import csv\n",
        "import yfinance as yf\n",
        "import pandas_datareader.data as web\n",
        "from qiskit_finance.applications.optimization import PortfolioDiversification"
      ]
    },
    {
      "cell_type": "code",
      "execution_count": null,
      "id": "1b6ad0d8",
      "metadata": {
        "id": "1b6ad0d8"
      },
      "outputs": [],
      "source": [
        "%matplotlib inline"
      ]
    },
    {
      "cell_type": "code",
      "execution_count": null,
      "id": "25cdcbc2",
      "metadata": {
        "id": "25cdcbc2"
      },
      "outputs": [],
      "source": [
        "# set number of assets (= number of qubits)\n",
        "\n",
        "seed = 123\n",
        "\n",
        "assets = [\"JPM\", \"GS\", \"MSFT\", \"AAPL\", \"KO\", \"WMT\", \"MCD\", \"NKE\"]\n",
        "\n",
        "\n",
        "# Using data from yahoo finance\n",
        "# use the name listed for particular company that you wish to add\n",
        "\n",
        "data = YahooDataProvider(\n",
        "        tickers= assets , \n",
        "        start=datetime.datetime(2011, 1, 1),\n",
        "        end=datetime.datetime(2015, 12, 31),\n",
        "    )\n",
        "\n",
        "num_assets = len(assets)\n",
        "data.run()\n",
        "\n",
        "mu = data.get_period_return_mean_vector()\n",
        "sigma = data.get_period_return_covariance_matrix()\n",
        "rho = data.get_similarity_matrix()\n",
        "# print(rho)"
      ]
    },
    {
      "cell_type": "code",
      "execution_count": null,
      "id": "50530cf1",
      "metadata": {
        "colab": {
          "base_uri": "https://localhost:8080/",
          "height": 265
        },
        "id": "50530cf1",
        "outputId": "aa58acac-e342-4c84-9c83-a1ac8bf2fefb"
      },
      "outputs": [
        {
          "output_type": "display_data",
          "data": {
            "text/plain": [
              "<Figure size 432x288 with 1 Axes>"
            ],
            "image/png": "[encoded data removed]"
          },
          "metadata": {
            "needs_background": "light"
          }
        }
      ],
      "source": [
        "# plot sigma\n",
        "plt.imshow(sigma, interpolation=\"nearest\")\n",
        "plt.show()"
      ]
    },
    {
      "cell_type": "code",
      "execution_count": null,
      "id": "14567144",
      "metadata": {
        "colab": {
          "base_uri": "https://localhost:8080/"
        },
        "id": "14567144",
        "outputId": "12080fba-1cf2-4339-f1f2-727c932b2497"
      },
      "outputs": [
        {
          "output_type": "execute_result",
          "data": {
            "text/plain": [
              "<QuadraticProgram: minimize 0.00014417233360252373*x_0^2 + 0.00023453256537534..., 8 variables, 1 constraints, 'Portfolio optimization'>"
            ]
          },
          "metadata": {},
          "execution_count": 7
        }
      ],
      "source": [
        "q = 0.5  # set risk factor\n",
        "budget = num_assets // 2  # set budget\n",
        "penalty = num_assets  # set parameter to scale the budget penalty term\n",
        "\n",
        "\n",
        "portfolio = PortfolioOptimization(\n",
        "    expected_returns=mu, covariances=sigma, risk_factor=q, budget=budget,\n",
        ")\n",
        "qp = portfolio.to_quadratic_program()\n",
        "qp"
      ]
    },
    {
      "cell_type": "code",
      "execution_count": null,
      "id": "e71dce01",
      "metadata": {
        "id": "e71dce01"
      },
      "outputs": [],
      "source": [
        "def index_to_selection(i, num_assets):\n",
        "    s = \"{0:b}\".format(i).rjust(num_assets)\n",
        "    x = np.array([1 if s[i] == \"1\" else 0 for i in reversed(range(num_assets))])\n",
        "    return x\n",
        "\n",
        "\n",
        "def print_result(result,fname):\n",
        "    \n",
        "    f = open(fname, 'w')\n",
        "    header = ['SELECTION', 'VALUE', 'PROBABLITY']\n",
        "    writer = csv.writer(f)\n",
        "    writer.writerow(header)\n",
        "    \n",
        "    selection = result.x\n",
        "    value = result.fval\n",
        "    print(\"Optimal: selection {}, value {:.4f}\".format(selection, value))\n",
        "\n",
        "    eigenstate = result.min_eigen_solver_result.eigenstate\n",
        "    eigenvector = eigenstate if isinstance(eigenstate, np.ndarray) else eigenstate.to_matrix()\n",
        "    probabilities = np.abs(eigenvector) ** 2\n",
        "    i_sorted = reversed(np.argsort(probabilities))\n",
        "    print(\"\\n----------------- Full result ---------------------\")\n",
        "    print(\"selection\\tvalue\\t\\tprobability\")\n",
        "    print(\"---------------------------------------------------\")\n",
        "    for i in i_sorted:\n",
        "        x = index_to_selection(i, num_assets)\n",
        "        value = QuadraticProgramToQubo().convert(qp).objective.evaluate(x)\n",
        "        # value = portfolio.to_quadratic_program().objective.evaluate(x)\n",
        "        probability = probabilities[i]\n",
        "        row = [x, value, probability]\n",
        "        writer.writerow(row)\n",
        "        print(\"%10s\\t%.4f\\t\\t%.4f\" % (x, value, probability))\n",
        "    f.close()"
      ]
    },
    {
      "cell_type": "code",
      "execution_count": null,
      "id": "95721b99",
      "metadata": {
        "colab": {
          "base_uri": "https://localhost:8080/"
        },
        "id": "95721b99",
        "outputId": "b901a21b-9c0c-47d1-8182-0f3b76bb06f7"
      },
      "outputs": [
        {
          "output_type": "stream",
          "name": "stdout",
          "text": [
            "Optimal: selection [0. 0. 1. 1. 0. 0. 1. 1.], value -0.0024\n",
            "\n",
            "----------------- Full result ---------------------\n",
            "selection\tvalue\t\tprobability\n",
            "---------------------------------------------------\n",
            "[0 0 1 1 0 0 1 1]\t-0.0024\t\t1.0000\n",
            "[1 1 1 1 1 1 1 1]\t16.1188\t\t0.0000\n",
            "[1 1 1 1 0 0 1 0]\t1.0061\t\t0.0000\n",
            "[0 0 1 1 1 0 1 0]\t-0.0019\t\t0.0000\n",
            "[1 1 0 1 1 0 1 0]\t1.0063\t\t0.0000\n",
            "[0 1 0 1 1 0 1 0]\t-0.0013\t\t0.0000\n",
            "[1 0 0 1 1 0 1 0]\t-0.0016\t\t0.0000\n",
            "[0 0 0 1 1 0 1 0]\t1.0061\t\t0.0000\n",
            "[1 1 1 0 1 0 1 0]\t1.0064\t\t0.0000\n",
            "[0 1 1 0 1 0 1 0]\t-0.0012\t\t0.0000\n",
            "[1 0 1 0 1 0 1 0]\t-0.0015\t\t0.0000\n",
            "[0 0 1 0 1 0 1 0]\t1.0062\t\t0.0000\n",
            "[1 1 0 0 1 0 1 0]\t-0.0008\t\t0.0000\n",
            "[0 1 0 0 1 0 1 0]\t1.0068\t\t0.0000\n",
            "[1 0 0 0 1 0 1 0]\t1.0064\t\t0.0000\n",
            "[0 0 0 0 1 0 1 0]\t4.0293\t\t0.0000\n",
            "[0 1 1 1 0 0 1 0]\t-0.0015\t\t0.0000\n",
            "[1 1 1 1 1 1 0 0]\t4.0289\t\t0.0000\n",
            "[1 0 1 1 0 0 1 0]\t-0.0018\t\t0.0000\n",
            "[0 0 1 1 0 0 1 0]\t1.0059\t\t0.0000\n",
            "[1 1 0 1 0 0 1 0]\t-0.0011\t\t0.0000\n",
            "[0 1 0 1 0 0 1 0]\t1.0065\t\t0.0000\n",
            "[1 0 0 1 0 0 1 0]\t1.0061\t\t0.0000\n",
            "[0 0 0 1 0 0 1 0]\t4.0290\t\t0.0000\n",
            "[1 1 1 0 0 0 1 0]\t-0.0010\t\t0.0000\n",
            "[0 1 1 0 0 0 1 0]\t1.0065\t\t0.0000\n",
            "[1 0 1 0 0 0 1 0]\t1.0062\t\t0.0000\n",
            "[0 0 1 0 0 0 1 0]\t4.0290\t\t0.0000\n",
            "[1 1 0 0 0 0 1 0]\t1.0069\t\t0.0000\n",
            "[0 1 0 0 0 0 1 0]\t4.0296\t\t0.0000\n",
            "[1 0 0 0 0 0 1 0]\t4.0293\t\t0.0000\n",
            "[1 0 1 1 1 0 1 0]\t1.0056\t\t0.0000\n",
            "[0 1 1 1 1 0 1 0]\t1.0059\t\t0.0000\n",
            "[1 1 1 1 1 0 1 0]\t4.0287\t\t0.0000\n",
            "[1 1 1 1 0 1 1 0]\t4.0288\t\t0.0000\n",
            "[0 0 1 1 1 1 1 0]\t1.0056\t\t0.0000\n",
            "[1 1 0 1 1 1 1 0]\t4.0289\t\t0.0000\n",
            "[0 1 0 1 1 1 1 0]\t1.0062\t\t0.0000\n",
            "[1 0 0 1 1 1 1 0]\t1.0059\t\t0.0000\n",
            "[0 0 0 1 1 1 1 0]\t-0.0015\t\t0.0000\n",
            "[1 1 1 0 1 1 1 0]\t4.0290\t\t0.0000\n",
            "[0 1 1 0 1 1 1 0]\t1.0063\t\t0.0000\n",
            "[1 0 1 0 1 1 1 0]\t1.0060\t\t0.0000\n",
            "[0 0 1 0 1 1 1 0]\t-0.0014\t\t0.0000\n",
            "[1 1 0 0 1 1 1 0]\t1.0067\t\t0.0000\n",
            "[0 1 0 0 1 1 1 0]\t-0.0008\t\t0.0000\n",
            "[1 0 0 0 1 1 1 0]\t-0.0011\t\t0.0000\n",
            "[0 0 0 0 1 1 1 0]\t1.0066\t\t0.0000\n",
            "[0 1 1 1 0 1 1 0]\t1.0060\t\t0.0000\n",
            "[0 0 0 0 0 1 1 0]\t4.0295\t\t0.0000\n",
            "[1 0 1 1 0 1 1 0]\t1.0057\t\t0.0000\n",
            "[0 0 1 1 0 1 1 0]\t-0.0017\t\t0.0000\n",
            "[1 1 0 1 0 1 1 0]\t1.0064\t\t0.0000\n",
            "[0 1 0 1 0 1 1 0]\t-0.0011\t\t0.0000\n",
            "[1 0 0 1 0 1 1 0]\t-0.0015\t\t0.0000\n",
            "[0 0 0 1 0 1 1 0]\t1.0063\t\t0.0000\n",
            "[1 1 1 0 0 1 1 0]\t1.0065\t\t0.0000\n",
            "[0 1 1 0 0 1 1 0]\t-0.0011\t\t0.0000\n",
            "[1 0 1 0 0 1 1 0]\t-0.0014\t\t0.0000\n",
            "[0 0 1 0 0 1 1 0]\t1.0063\t\t0.0000\n",
            "[1 1 0 0 0 1 1 0]\t-0.0007\t\t0.0000\n",
            "[0 1 0 0 0 1 1 0]\t1.0069\t\t0.0000\n",
            "[1 0 0 0 0 1 1 0]\t1.0066\t\t0.0000\n",
            "[0 0 0 0 0 0 1 0]\t9.0673\t\t0.0000\n",
            "[0 1 1 1 1 1 0 0]\t1.0062\t\t0.0000\n",
            "[0 1 1 1 1 1 1 0]\t4.0285\t\t0.0000\n",
            "[1 1 1 1 0 0 0 0]\t-0.0012\t\t0.0000\n",
            "[0 0 1 1 1 0 0 0]\t1.0060\t\t0.0000\n",
            "[1 1 0 1 1 0 0 0]\t-0.0010\t\t0.0000\n",
            "[0 1 0 1 1 0 0 0]\t1.0066\t\t0.0000\n",
            "[1 0 0 1 1 0 0 0]\t1.0062\t\t0.0000\n",
            "[0 0 0 1 1 0 0 0]\t4.0291\t\t0.0000\n",
            "[1 1 1 0 1 0 0 0]\t-0.0009\t\t0.0000\n",
            "[0 1 1 0 1 0 0 0]\t1.0067\t\t0.0000\n",
            "[1 0 1 0 1 0 0 0]\t1.0063\t\t0.0000\n",
            "[0 0 1 0 1 0 0 0]\t4.0292\t\t0.0000\n",
            "[1 1 0 0 1 0 0 0]\t1.0070\t\t0.0000\n",
            "[0 1 0 0 1 0 0 0]\t4.0298\t\t0.0000\n",
            "[1 0 0 0 1 0 0 0]\t4.0294\t\t0.0000\n",
            "[0 0 0 0 1 0 0 0]\t9.0675\t\t0.0000\n",
            "[0 1 1 1 0 0 0 0]\t1.0064\t\t0.0000\n",
            "[0 1 1 1 1 0 0 0]\t-0.0014\t\t0.0000\n",
            "[1 0 1 1 0 0 0 0]\t1.0060\t\t0.0000\n",
            "[0 0 1 1 0 0 0 0]\t4.0288\t\t0.0000\n",
            "[1 1 0 1 0 0 0 0]\t1.0067\t\t0.0000\n",
            "[0 1 0 1 0 0 0 0]\t4.0294\t\t0.0000\n",
            "[1 0 0 1 0 0 0 0]\t4.0291\t\t0.0000\n",
            "[0 0 0 1 0 0 0 0]\t9.0671\t\t0.0000\n",
            "[1 1 1 0 0 0 0 0]\t1.0068\t\t0.0000\n",
            "[0 1 1 0 0 0 0 0]\t4.0295\t\t0.0000\n",
            "[1 0 1 0 0 0 0 0]\t4.0291\t\t0.0000\n",
            "[0 0 1 0 0 0 0 0]\t9.0671\t\t0.0000\n",
            "[1 1 0 0 0 0 0 0]\t4.0298\t\t0.0000\n",
            "[0 1 0 0 0 0 0 0]\t9.0677\t\t0.0000\n",
            "[1 0 0 0 0 0 0 0]\t9.0674\t\t0.0000\n",
            "[1 0 1 1 1 0 0 0]\t-0.0017\t\t0.0000\n",
            "[1 1 1 1 1 0 0 0]\t1.0063\t\t0.0000\n",
            "[1 0 1 1 1 1 0 0]\t1.0058\t\t0.0000\n",
            "[1 1 1 1 0 1 0 0]\t1.0064\t\t0.0000\n",
            "[0 0 1 1 1 1 0 0]\t-0.0016\t\t0.0000\n",
            "[1 1 0 1 1 1 0 0]\t1.0065\t\t0.0000\n",
            "[0 1 0 1 1 1 0 0]\t-0.0010\t\t0.0000\n",
            "[1 0 0 1 1 1 0 0]\t-0.0013\t\t0.0000\n",
            "[0 0 0 1 1 1 0 0]\t1.0064\t\t0.0000\n",
            "[1 1 1 0 1 1 0 0]\t1.0067\t\t0.0000\n",
            "[0 1 1 0 1 1 0 0]\t-0.0009\t\t0.0000\n",
            "[1 0 1 0 1 1 0 0]\t-0.0013\t\t0.0000\n",
            "[0 0 1 0 1 1 0 0]\t1.0065\t\t0.0000\n",
            "[1 1 0 0 1 1 0 0]\t-0.0005\t\t0.0000\n",
            "[0 1 0 0 1 1 0 0]\t1.0071\t\t0.0000\n",
            "[1 0 0 0 1 1 0 0]\t1.0067\t\t0.0000\n",
            "[0 0 0 0 1 1 0 0]\t4.0296\t\t0.0000\n",
            "[0 1 1 1 0 1 0 0]\t-0.0012\t\t0.0000\n",
            "[0 0 0 0 0 1 0 0]\t9.0676\t\t0.0000\n",
            "[1 0 1 1 0 1 0 0]\t-0.0016\t\t0.0000\n",
            "[0 0 1 1 0 1 0 0]\t1.0061\t\t0.0000\n",
            "[1 1 0 1 0 1 0 0]\t-0.0009\t\t0.0000\n",
            "[0 1 0 1 0 1 0 0]\t1.0067\t\t0.0000\n",
            "[1 0 0 1 0 1 0 0]\t1.0064\t\t0.0000\n",
            "[0 0 0 1 0 1 0 0]\t4.0293\t\t0.0000\n",
            "[1 1 1 0 0 1 0 0]\t-0.0008\t\t0.0000\n",
            "[0 1 1 0 0 1 0 0]\t1.0068\t\t0.0000\n",
            "[1 0 1 0 0 1 0 0]\t1.0065\t\t0.0000\n",
            "[0 0 1 0 0 1 0 0]\t4.0293\t\t0.0000\n",
            "[1 1 0 0 0 1 0 0]\t1.0072\t\t0.0000\n",
            "[0 1 0 0 0 1 0 0]\t4.0299\t\t0.0000\n",
            "[1 0 0 0 0 1 0 0]\t4.0296\t\t0.0000\n",
            "[1 0 1 1 1 1 1 0]\t4.0282\t\t0.0000\n",
            "[1 1 1 1 1 1 1 0]\t9.0664\t\t0.0000\n",
            "[0 1 1 1 1 1 1 1]\t9.0657\t\t0.0000\n",
            "[0 0 0 0 1 0 1 1]\t1.0060\t\t0.0000\n",
            "[1 0 1 1 1 0 1 1]\t4.0277\t\t0.0000\n",
            "[0 0 1 1 1 0 1 1]\t1.0050\t\t0.0000\n",
            "[1 1 0 1 1 0 1 1]\t4.0284\t\t0.0000\n",
            "[0 1 0 1 1 0 1 1]\t1.0056\t\t0.0000\n",
            "[1 0 0 1 1 0 1 1]\t1.0053\t\t0.0000\n",
            "[0 0 0 1 1 0 1 1]\t-0.0021\t\t0.0000\n",
            "[1 1 1 0 1 0 1 1]\t4.0285\t\t0.0000\n",
            "[0 1 1 0 1 0 1 1]\t1.0057\t\t0.0000\n",
            "[1 0 1 0 1 0 1 1]\t1.0054\t\t0.0000\n",
            "[0 0 1 0 1 0 1 1]\t-0.0020\t\t0.0000\n",
            "[1 1 0 0 1 0 1 1]\t1.0061\t\t0.0000\n",
            "[0 1 0 0 1 0 1 1]\t-0.0014\t\t0.0000\n",
            "[1 0 0 0 1 0 1 1]\t-0.0018\t\t0.0000\n",
            "[1 1 1 1 0 0 1 1]\t4.0282\t\t0.0000\n",
            "[1 1 1 1 1 0 1 1]\t9.0659\t\t0.0000\n",
            "[0 1 1 1 0 0 1 1]\t1.0055\t\t0.0000\n",
            "[1 0 1 1 0 0 1 1]\t1.0051\t\t0.0000\n",
            "[1 1 0 1 0 0 1 1]\t1.0058\t\t0.0000\n",
            "[0 1 0 1 0 0 1 1]\t-0.0017\t\t0.0000\n",
            "[1 0 0 1 0 0 1 1]\t-0.0021\t\t0.0000\n",
            "[0 0 0 1 0 0 1 1]\t1.0056\t\t0.0000\n",
            "[1 1 1 0 0 0 1 1]\t1.0060\t\t0.0000\n",
            "[0 1 1 0 0 0 1 1]\t-0.0017\t\t0.0000\n",
            "[1 0 1 0 0 0 1 1]\t-0.0020\t\t0.0000\n",
            "[0 0 1 0 0 0 1 1]\t1.0057\t\t0.0000\n",
            "[1 1 0 0 0 0 1 1]\t-0.0013\t\t0.0000\n",
            "[0 1 0 0 0 0 1 1]\t1.0063\t\t0.0000\n",
            "[1 0 0 0 0 0 1 1]\t1.0059\t\t0.0000\n",
            "[0 1 1 1 1 0 1 1]\t4.0280\t\t0.0000\n",
            "[0 0 0 0 0 1 1 1]\t1.0061\t\t0.0000\n",
            "[1 1 1 1 1 1 0 1]\t9.0661\t\t0.0000\n",
            "[0 0 0 0 1 1 1 1]\t-0.0016\t\t0.0000\n",
            "[1 0 1 1 1 1 1 1]\t9.0654\t\t0.0000\n",
            "[0 0 1 1 1 1 1 1]\t4.0277\t\t0.0000\n",
            "[1 1 0 1 1 1 1 1]\t9.0661\t\t0.0000\n",
            "[0 1 0 1 1 1 1 1]\t4.0283\t\t0.0000\n",
            "[1 0 0 1 1 1 1 1]\t4.0279\t\t0.0000\n",
            "[0 0 0 1 1 1 1 1]\t1.0054\t\t0.0000\n",
            "[1 1 1 0 1 1 1 1]\t9.0663\t\t0.0000\n",
            "[0 1 1 0 1 1 1 1]\t4.0284\t\t0.0000\n",
            "[1 0 1 0 1 1 1 1]\t4.0281\t\t0.0000\n",
            "[0 0 1 0 1 1 1 1]\t1.0055\t\t0.0000\n",
            "[1 1 0 0 1 1 1 1]\t4.0288\t\t0.0000\n",
            "[0 1 0 0 1 1 1 1]\t1.0061\t\t0.0000\n",
            "[1 0 0 0 1 1 1 1]\t1.0058\t\t0.0000\n",
            "[1 1 1 1 0 1 1 1]\t9.0660\t\t0.0000\n",
            "[1 0 0 0 0 1 1 1]\t-0.0016\t\t0.0000\n",
            "[0 1 1 1 0 1 1 1]\t4.0281\t\t0.0000\n",
            "[1 0 1 1 0 1 1 1]\t4.0278\t\t0.0000\n",
            "[0 0 1 1 0 1 1 1]\t1.0052\t\t0.0000\n",
            "[1 1 0 1 0 1 1 1]\t4.0285\t\t0.0000\n",
            "[0 1 0 1 0 1 1 1]\t1.0058\t\t0.0000\n",
            "[1 0 0 1 0 1 1 1]\t1.0054\t\t0.0000\n",
            "[0 0 0 1 0 1 1 1]\t-0.0020\t\t0.0000\n",
            "[1 1 1 0 0 1 1 1]\t4.0286\t\t0.0000\n",
            "[0 1 1 0 0 1 1 1]\t1.0059\t\t0.0000\n",
            "[1 0 1 0 0 1 1 1]\t1.0055\t\t0.0000\n",
            "[0 0 1 0 0 1 1 1]\t-0.0019\t\t0.0000\n",
            "[1 1 0 0 0 1 1 1]\t1.0063\t\t0.0000\n",
            "[0 1 0 0 0 1 1 1]\t-0.0013\t\t0.0000\n",
            "[0 0 0 0 0 0 1 1]\t4.0288\t\t0.0000\n",
            "[0 1 1 1 1 1 0 1]\t4.0282\t\t0.0000\n",
            "[0 0 0 0 0 0 0 1]\t9.0669\t\t0.0000\n",
            "[1 1 1 1 0 0 0 1]\t1.0058\t\t0.0000\n",
            "[0 0 1 1 1 0 0 1]\t-0.0022\t\t0.0000\n",
            "[1 1 0 1 1 0 0 1]\t1.0060\t\t0.0000\n",
            "[0 1 0 1 1 0 0 1]\t-0.0016\t\t0.0000\n",
            "[1 0 0 1 1 0 0 1]\t-0.0020\t\t0.0000\n",
            "[0 0 0 1 1 0 0 1]\t1.0057\t\t0.0000\n",
            "[1 1 1 0 1 0 0 1]\t1.0061\t\t0.0000\n",
            "[0 1 1 0 1 0 0 1]\t-0.0015\t\t0.0000\n",
            "[1 0 1 0 1 0 0 1]\t-0.0019\t\t0.0000\n",
            "[0 0 1 0 1 0 0 1]\t1.0058\t\t0.0000\n",
            "[1 1 0 0 1 0 0 1]\t-0.0012\t\t0.0000\n",
            "[0 1 0 0 1 0 0 1]\t1.0064\t\t0.0000\n",
            "[1 0 0 0 1 0 0 1]\t1.0061\t\t0.0000\n",
            "[0 0 0 0 1 0 0 1]\t4.0289\t\t0.0000\n",
            "[0 1 1 1 0 0 0 1]\t-0.0018\t\t0.0000\n",
            "[0 1 1 1 1 0 0 1]\t1.0056\t\t0.0000\n",
            "[1 0 1 1 0 0 0 1]\t-0.0022\t\t0.0000\n",
            "[0 0 1 1 0 0 0 1]\t1.0055\t\t0.0000\n",
            "[1 1 0 1 0 0 0 1]\t-0.0014\t\t0.0000\n",
            "[0 1 0 1 0 0 0 1]\t1.0061\t\t0.0000\n",
            "[1 0 0 1 0 0 0 1]\t1.0057\t\t0.0000\n",
            "[0 0 0 1 0 0 0 1]\t4.0286\t\t0.0000\n",
            "[1 1 1 0 0 0 0 1]\t-0.0013\t\t0.0000\n",
            "[0 1 1 0 0 0 0 1]\t1.0062\t\t0.0000\n",
            "[1 0 1 0 0 0 0 1]\t1.0058\t\t0.0000\n",
            "[0 0 1 0 0 0 0 1]\t4.0286\t\t0.0000\n",
            "[1 1 0 0 0 0 0 1]\t1.0065\t\t0.0000\n",
            "[0 1 0 0 0 0 0 1]\t4.0292\t\t0.0000\n",
            "[1 0 0 0 0 0 0 1]\t4.0289\t\t0.0000\n",
            "[1 0 1 1 1 0 0 1]\t1.0052\t\t0.0000\n",
            "[1 1 1 1 1 0 0 1]\t4.0284\t\t0.0000\n",
            "[1 0 1 1 1 1 0 1]\t4.0279\t\t0.0000\n",
            "[1 1 1 1 0 1 0 1]\t4.0285\t\t0.0000\n",
            "[0 0 1 1 1 1 0 1]\t1.0053\t\t0.0000\n",
            "[1 1 0 1 1 1 0 1]\t4.0286\t\t0.0000\n",
            "[0 1 0 1 1 1 0 1]\t1.0059\t\t0.0000\n",
            "[1 0 0 1 1 1 0 1]\t1.0056\t\t0.0000\n",
            "[0 0 0 1 1 1 0 1]\t-0.0019\t\t0.0000\n",
            "[1 1 1 0 1 1 0 1]\t4.0288\t\t0.0000\n",
            "[0 1 1 0 1 1 0 1]\t1.0060\t\t0.0000\n",
            "[1 0 1 0 1 1 0 1]\t1.0057\t\t0.0000\n",
            "[0 0 1 0 1 1 0 1]\t-0.0018\t\t0.0000\n",
            "[1 1 0 0 1 1 0 1]\t1.0064\t\t0.0000\n",
            "[0 1 0 0 1 1 0 1]\t-0.0012\t\t0.0000\n",
            "[1 0 0 0 1 1 0 1]\t-0.0015\t\t0.0000\n",
            "[0 0 0 0 1 1 0 1]\t1.0062\t\t0.0000\n",
            "[0 1 1 1 0 1 0 1]\t1.0057\t\t0.0000\n",
            "[0 0 0 0 0 1 0 1]\t4.0291\t\t0.0000\n",
            "[1 0 1 1 0 1 0 1]\t1.0054\t\t0.0000\n",
            "[0 0 1 1 0 1 0 1]\t-0.0021\t\t0.0000\n",
            "[1 1 0 1 0 1 0 1]\t1.0061\t\t0.0000\n",
            "[0 1 0 1 0 1 0 1]\t-0.0015\t\t0.0000\n",
            "[1 0 0 1 0 1 0 1]\t-0.0018\t\t0.0000\n",
            "[0 0 0 1 0 1 0 1]\t1.0059\t\t0.0000\n",
            "[1 1 1 0 0 1 0 1]\t1.0062\t\t0.0000\n",
            "[0 1 1 0 0 1 0 1]\t-0.0014\t\t0.0000\n",
            "[1 0 1 0 0 1 0 1]\t-0.0017\t\t0.0000\n",
            "[0 0 1 0 0 1 0 1]\t1.0059\t\t0.0000\n",
            "[1 1 0 0 0 1 0 1]\t-0.0010\t\t0.0000\n",
            "[0 1 0 0 0 1 0 1]\t1.0065\t\t0.0000\n",
            "[1 0 0 0 0 1 0 1]\t1.0062\t\t0.0000\n",
            "[0 0 0 0 0 0 0 0]\t16.1205\t\t0.0000\n"
          ]
        }
      ],
      "source": [
        "#classical reference solution\n",
        "#provide fname ='complete address/location of your .csv file'\n",
        "\n",
        "exact_mes = NumPyMinimumEigensolver()\n",
        "exact_eigensolver = MinimumEigenOptimizer(exact_mes)\n",
        "\n",
        "result = exact_eigensolver.solve(qp)\n",
        "fname = 'nes1.csv' #change the location and nsame of .csv file\n",
        "\n",
        "print_result(result,fname)"
      ]
    },
    {
      "cell_type": "code",
      "execution_count": null,
      "id": "SotSnxc2P44M",
      "metadata": {
        "colab": {
          "base_uri": "https://localhost:8080/"
        },
        "id": "SotSnxc2P44M",
        "outputId": "05d17534-ae81-4fe6-8d2d-4abca14d200d"
      },
      "outputs": [
        {
          "output_type": "stream",
          "name": "stdout",
          "text": [
            "Looking in indexes: https://pypi.org/simple, https://us-python.pkg.dev/colab-wheels/public/simple/\n",
            "Requirement already satisfied: qiskit-aer in /usr/local/lib/python3.7/dist-packages (0.10.4)\n",
            "Requirement already satisfied: qiskit-terra>=0.19.1 in /usr/local/lib/python3.7/dist-packages (from qiskit-aer) (0.21.2)\n",
            "Requirement already satisfied: scipy>=1.0 in /usr/local/lib/python3.7/dist-packages (from qiskit-aer) (1.7.3)\n",
            "Requirement already satisfied: numpy>=1.16.3 in /usr/local/lib/python3.7/dist-packages (from qiskit-aer) (1.21.6)\n",
            "Requirement already satisfied: ply>=3.10 in /usr/local/lib/python3.7/dist-packages (from qiskit-terra>=0.19.1->qiskit-aer) (3.11)\n",
            "Requirement already satisfied: tweedledum<2.0,>=1.1 in /usr/local/lib/python3.7/dist-packages (from qiskit-terra>=0.19.1->qiskit-aer) (1.1.1)\n",
            "Requirement already satisfied: retworkx>=0.11.0 in /usr/local/lib/python3.7/dist-packages (from qiskit-terra>=0.19.1->qiskit-aer) (0.11.0)\n",
            "Requirement already satisfied: shared-memory38 in /usr/local/lib/python3.7/dist-packages (from qiskit-terra>=0.19.1->qiskit-aer) (0.1.2)\n",
            "Requirement already satisfied: psutil>=5 in /usr/local/lib/python3.7/dist-packages (from qiskit-terra>=0.19.1->qiskit-aer) (5.4.8)\n",
            "Requirement already satisfied: symengine>=0.9 in /usr/local/lib/python3.7/dist-packages (from qiskit-terra>=0.19.1->qiskit-aer) (0.9.2)\n",
            "Requirement already satisfied: stevedore>=3.0.0 in /usr/local/lib/python3.7/dist-packages (from qiskit-terra>=0.19.1->qiskit-aer) (3.5.0)\n",
            "Requirement already satisfied: dill>=0.3 in /usr/local/lib/python3.7/dist-packages (from qiskit-terra>=0.19.1->qiskit-aer) (0.3.5.1)\n",
            "Requirement already satisfied: typing-extensions in /usr/local/lib/python3.7/dist-packages (from qiskit-terra>=0.19.1->qiskit-aer) (4.1.1)\n",
            "Requirement already satisfied: python-dateutil>=2.8.0 in /usr/local/lib/python3.7/dist-packages (from qiskit-terra>=0.19.1->qiskit-aer) (2.8.2)\n",
            "Requirement already satisfied: sympy>=1.3 in /usr/local/lib/python3.7/dist-packages (from qiskit-terra>=0.19.1->qiskit-aer) (1.7.1)\n",
            "Requirement already satisfied: six>=1.5 in /usr/local/lib/python3.7/dist-packages (from python-dateutil>=2.8.0->qiskit-terra>=0.19.1->qiskit-aer) (1.15.0)\n",
            "Requirement already satisfied: importlib-metadata>=1.7.0 in /usr/local/lib/python3.7/dist-packages (from stevedore>=3.0.0->qiskit-terra>=0.19.1->qiskit-aer) (4.12.0)\n",
            "Requirement already satisfied: pbr!=2.1.0,>=2.0.0 in /usr/local/lib/python3.7/dist-packages (from stevedore>=3.0.0->qiskit-terra>=0.19.1->qiskit-aer) (5.10.0)\n",
            "Requirement already satisfied: zipp>=0.5 in /usr/local/lib/python3.7/dist-packages (from importlib-metadata>=1.7.0->stevedore>=3.0.0->qiskit-terra>=0.19.1->qiskit-aer) (3.8.1)\n",
            "Requirement already satisfied: mpmath>=0.19 in /usr/local/lib/python3.7/dist-packages (from sympy>=1.3->qiskit-terra>=0.19.1->qiskit-aer) (1.2.1)\n"
          ]
        }
      ],
      "source": [
        "!pip install qiskit-aer"
      ]
    },
    {
      "cell_type": "code",
      "execution_count": null,
      "id": "f0d47626",
      "metadata": {
        "colab": {
          "base_uri": "https://localhost:8080/"
        },
        "id": "f0d47626",
        "outputId": "02908e9a-7f06-4cba-e9bb-78eb4a07ef30"
      },
      "outputs": [
        {
          "output_type": "stream",
          "name": "stderr",
          "text": [
            "/usr/local/lib/python3.7/dist-packages/qiskit_optimization/algorithms/optimization_algorithm.py:138: UserWarning: The sum of probability of samples is not close to 1: f{sum_prob}\n",
            "  warn(\"The sum of probability of samples is not close to 1: f{sum_prob}\")\n"
          ]
        },
        {
          "output_type": "stream",
          "name": "stdout",
          "text": [
            "Optimal: selection [0. 0. 1. 1. 0. 1. 0. 1.], value -0.0021\n",
            "\n",
            "----------------- Full result ---------------------\n",
            "selection\tvalue\t\tprobability\n",
            "---------------------------------------------------\n",
            "[1 1 1 1 0 0 0 0]\t-0.0012\t\t0.2202\n",
            "[0 0 0 0 1 1 1 1]\t-0.0016\t\t0.2098\n",
            "[1 1 0 1 1 0 0 0]\t-0.0010\t\t0.2088\n",
            "[0 0 1 0 0 1 1 1]\t-0.0019\t\t0.2040\n",
            "[1 0 1 0 0 1 0 1]\t-0.0017\t\t0.0437\n",
            "[1 0 0 0 1 1 0 1]\t-0.0015\t\t0.0423\n",
            "[0 1 0 1 1 0 1 0]\t-0.0013\t\t0.0356\n",
            "[0 1 1 1 0 0 1 0]\t-0.0015\t\t0.0353\n",
            "[0 1 1 1 0 0 0 0]\t1.0064\t\t0.0001\n",
            "[1 0 0 0 1 1 1 1]\t1.0058\t\t0.0000\n",
            "[1 0 1 0 0 1 1 1]\t1.0055\t\t0.0000\n",
            "[0 1 1 1 1 0 0 0]\t-0.0014\t\t0.0000\n",
            "[0 0 0 0 0 1 1 1]\t1.0061\t\t0.0000\n",
            "[0 0 1 0 1 1 0 1]\t-0.0018\t\t0.0000\n",
            "[1 0 0 0 0 1 1 1]\t-0.0016\t\t0.0000\n",
            "[1 1 0 1 0 0 0 0]\t1.0067\t\t0.0000\n",
            "[1 1 1 1 0 0 1 0]\t1.0061\t\t0.0000\n",
            "[0 1 0 1 0 0 1 0]\t1.0065\t\t0.0000\n",
            "[0 0 1 0 0 1 0 1]\t1.0059\t\t0.0000\n",
            "[0 0 0 0 1 1 0 1]\t1.0062\t\t0.0000\n",
            "[1 1 0 1 0 0 1 0]\t-0.0011\t\t0.0000\n",
            "[0 1 0 1 0 0 0 0]\t4.0294\t\t0.0000\n",
            "[1 0 0 1 1 0 0 0]\t1.0062\t\t0.0000\n",
            "[0 1 1 0 0 1 1 1]\t1.0059\t\t0.0000\n",
            "[0 1 0 1 1 0 0 0]\t1.0066\t\t0.0000\n",
            "[0 1 1 0 0 1 0 1]\t-0.0014\t\t0.0000\n",
            "[0 1 0 0 1 1 0 1]\t-0.0012\t\t0.0000\n",
            "[0 0 1 1 0 1 0 1]\t-0.0021\t\t0.0000\n",
            "[0 0 0 1 1 1 0 1]\t-0.0019\t\t0.0000\n",
            "[1 1 1 1 0 0 0 1]\t1.0058\t\t0.0000\n",
            "[0 0 0 0 1 1 1 0]\t1.0066\t\t0.0000\n",
            "[0 1 1 1 1 0 1 0]\t1.0059\t\t0.0000\n",
            "[1 0 1 0 1 1 1 1]\t4.0281\t\t0.0000\n",
            "[1 0 1 0 1 1 0 1]\t1.0057\t\t0.0000\n",
            "[1 1 1 1 1 0 1 0]\t4.0287\t\t0.0000\n",
            "[1 1 0 1 1 0 1 0]\t1.0063\t\t0.0000\n",
            "[1 1 1 0 0 1 0 1]\t1.0062\t\t0.0000\n",
            "[1 0 1 1 0 0 0 0]\t1.0060\t\t0.0000\n",
            "[0 1 0 0 1 1 1 1]\t1.0061\t\t0.0000\n",
            "[0 0 1 0 1 1 1 1]\t1.0055\t\t0.0000\n",
            "[0 0 0 1 1 0 1 0]\t1.0061\t\t0.0000\n",
            "[1 1 0 0 1 1 1 1]\t4.0288\t\t0.0000\n",
            "[1 0 0 1 1 1 1 1]\t4.0279\t\t0.0000\n",
            "[1 0 1 1 0 1 1 1]\t4.0278\t\t0.0000\n",
            "[1 1 1 0 0 1 1 1]\t4.0286\t\t0.0000\n",
            "[1 1 1 0 0 0 1 0]\t-0.0010\t\t0.0000\n",
            "[1 1 0 0 1 0 1 0]\t-0.0008\t\t0.0000\n",
            "[0 0 1 0 0 1 1 0]\t1.0063\t\t0.0000\n",
            "[1 0 0 0 1 1 0 0]\t1.0067\t\t0.0000\n",
            "[1 1 0 1 1 0 0 1]\t1.0060\t\t0.0000\n",
            "[1 1 0 1 1 0 1 1]\t4.0284\t\t0.0000\n",
            "[1 1 1 1 0 0 1 1]\t4.0282\t\t0.0000\n",
            "[1 1 1 1 0 1 1 0]\t4.0288\t\t0.0000\n",
            "[1 1 0 1 1 1 1 0]\t4.0289\t\t0.0000\n",
            "[0 1 1 1 0 0 1 1]\t1.0055\t\t0.0000\n",
            "[0 0 0 0 1 1 0 0]\t4.0296\t\t0.0000\n",
            "[0 0 1 0 0 1 0 0]\t4.0293\t\t0.0000\n",
            "[1 1 1 1 1 0 0 0]\t1.0063\t\t0.0000\n",
            "[1 1 0 1 1 1 0 0]\t1.0065\t\t0.0000\n",
            "[0 0 1 0 0 0 1 1]\t1.0057\t\t0.0000\n",
            "[1 1 1 1 0 1 0 0]\t1.0064\t\t0.0000\n",
            "[0 0 0 0 1 0 1 1]\t1.0060\t\t0.0000\n",
            "[0 0 1 1 0 1 1 1]\t1.0052\t\t0.0000\n",
            "[1 1 0 0 1 0 0 0]\t1.0070\t\t0.0000\n",
            "[1 0 0 1 0 0 0 0]\t4.0291\t\t0.0000\n",
            "[0 0 0 1 1 1 1 1]\t1.0054\t\t0.0000\n",
            "[1 1 1 0 0 0 0 0]\t1.0068\t\t0.0000\n",
            "[1 0 1 1 1 0 0 0]\t-0.0017\t\t0.0000\n",
            "[1 1 0 0 1 1 0 1]\t1.0064\t\t0.0000\n",
            "[0 0 1 1 0 0 1 0]\t1.0059\t\t0.0000\n",
            "[0 1 1 0 1 1 1 1]\t4.0284\t\t0.0000\n",
            "[0 1 0 0 0 1 1 1]\t-0.0013\t\t0.0000\n",
            "[1 0 1 0 0 1 0 0]\t1.0065\t\t0.0000\n",
            "[0 1 1 1 0 0 0 1]\t-0.0018\t\t0.0000\n",
            "[0 1 0 1 1 0 1 1]\t1.0056\t\t0.0000\n",
            "[0 1 1 0 0 0 0 0]\t4.0295\t\t0.0000\n",
            "[0 1 0 0 1 0 0 0]\t4.0298\t\t0.0000\n",
            "[0 1 0 1 1 0 0 1]\t-0.0016\t\t0.0000\n",
            "[0 0 0 0 0 1 1 0]\t4.0295\t\t0.0000\n",
            "[1 1 0 1 0 0 0 1]\t-0.0014\t\t0.0000\n",
            "[0 0 1 0 1 1 1 0]\t-0.0014\t\t0.0000\n",
            "[1 1 1 1 1 0 0 1]\t4.0284\t\t0.0000\n",
            "[1 0 1 0 0 1 1 0]\t-0.0014\t\t0.0000\n",
            "[0 1 0 1 1 1 0 0]\t-0.0010\t\t0.0000\n",
            "[0 1 1 1 0 1 0 0]\t-0.0012\t\t0.0000\n",
            "[0 0 1 1 1 1 1 1]\t4.0277\t\t0.0000\n",
            "[1 0 0 0 1 1 1 0]\t-0.0011\t\t0.0000\n",
            "[1 1 1 0 1 0 0 0]\t-0.0009\t\t0.0000\n",
            "[1 1 0 0 0 0 0 0]\t4.0298\t\t0.0000\n",
            "[1 0 1 0 0 0 0 1]\t1.0058\t\t0.0000\n",
            "[0 0 0 1 0 1 1 1]\t-0.0020\t\t0.0000\n",
            "[1 0 0 0 1 0 0 1]\t1.0061\t\t0.0000\n",
            "[0 1 1 1 0 1 1 0]\t1.0060\t\t0.0000\n",
            "[0 1 0 1 1 1 1 0]\t1.0062\t\t0.0000\n",
            "[0 1 0 0 1 0 1 0]\t1.0068\t\t0.0000\n",
            "[1 0 1 1 0 1 0 1]\t1.0054\t\t0.0000\n",
            "[1 1 1 0 1 1 0 1]\t4.0288\t\t0.0000\n",
            "[1 1 0 0 0 1 0 1]\t-0.0010\t\t0.0000\n",
            "[0 0 0 1 0 0 1 0]\t4.0290\t\t0.0000\n",
            "[0 0 1 1 1 0 1 0]\t-0.0019\t\t0.0000\n",
            "[0 1 1 0 0 0 1 0]\t1.0065\t\t0.0000\n",
            "[1 0 0 1 1 1 0 1]\t1.0056\t\t0.0000\n",
            "[1 0 0 0 0 1 0 1]\t1.0062\t\t0.0000\n",
            "[1 0 0 0 0 1 0 0]\t4.0296\t\t0.0000\n",
            "[1 0 1 0 1 1 0 0]\t-0.0013\t\t0.0000\n",
            "[0 1 1 0 1 0 1 0]\t-0.0012\t\t0.0000\n",
            "[0 1 0 0 0 0 1 0]\t4.0296\t\t0.0000\n",
            "[1 0 1 1 1 1 0 1]\t4.0279\t\t0.0000\n",
            "[0 1 0 1 0 0 1 1]\t-0.0017\t\t0.0000\n",
            "[0 1 1 1 1 0 1 1]\t4.0280\t\t0.0000\n",
            "[1 0 0 1 0 1 0 1]\t-0.0018\t\t0.0000\n",
            "[0 0 0 0 1 0 0 1]\t4.0289\t\t0.0000\n",
            "[0 0 1 0 0 0 0 1]\t4.0286\t\t0.0000\n",
            "[0 0 0 0 0 1 0 1]\t4.0291\t\t0.0000\n",
            "[1 0 1 0 0 0 1 1]\t-0.0020\t\t0.0000\n",
            "[0 1 1 0 1 1 0 1]\t1.0060\t\t0.0000\n",
            "[1 0 0 0 1 0 1 1]\t-0.0018\t\t0.0000\n",
            "[1 1 0 1 0 0 1 1]\t1.0058\t\t0.0000\n",
            "[1 0 1 1 0 0 1 0]\t-0.0018\t\t0.0000\n",
            "[1 1 0 1 0 1 0 0]\t-0.0009\t\t0.0000\n",
            "[0 0 0 1 1 0 0 0]\t4.0291\t\t0.0000\n",
            "[1 0 0 1 1 0 1 0]\t-0.0016\t\t0.0000\n",
            "[1 1 0 0 0 1 1 1]\t1.0063\t\t0.0000\n",
            "[1 1 0 0 0 0 1 0]\t1.0069\t\t0.0000\n",
            "[0 1 1 1 1 0 0 1]\t1.0056\t\t0.0000\n",
            "[0 0 1 1 1 0 0 0]\t1.0060\t\t0.0000\n",
            "[0 0 1 0 1 0 1 1]\t-0.0020\t\t0.0000\n",
            "[1 0 0 0 0 1 1 0]\t1.0066\t\t0.0000\n",
            "[0 1 1 1 0 1 1 1]\t4.0281\t\t0.0000\n",
            "[1 1 1 1 1 1 0 0]\t4.0289\t\t0.0000\n",
            "[1 1 1 1 1 1 1 0]\t9.0664\t\t0.0000\n",
            "[1 1 0 1 0 1 1 0]\t1.0064\t\t0.0000\n",
            "[1 1 1 1 0 1 0 1]\t4.0285\t\t0.0000\n",
            "[0 0 0 1 1 1 0 0]\t1.0064\t\t0.0000\n",
            "[1 0 0 1 0 1 1 1]\t1.0054\t\t0.0000\n",
            "[0 0 1 1 1 1 0 1]\t1.0053\t\t0.0000\n",
            "[0 1 1 1 0 1 0 1]\t1.0057\t\t0.0000\n",
            "[0 0 1 1 0 0 0 0]\t4.0288\t\t0.0000\n",
            "[1 0 1 1 1 0 1 0]\t1.0056\t\t0.0000\n",
            "[0 1 0 1 1 1 1 1]\t4.0283\t\t0.0000\n",
            "[0 1 0 0 0 1 0 1]\t1.0065\t\t0.0000\n",
            "[1 0 1 0 1 1 1 0]\t1.0060\t\t0.0000\n",
            "[0 1 0 0 1 1 0 0]\t1.0071\t\t0.0000\n",
            "[1 1 1 1 1 0 1 1]\t9.0659\t\t0.0000\n",
            "[1 1 1 0 1 0 1 0]\t1.0064\t\t0.0000\n",
            "[0 1 1 0 0 1 1 0]\t-0.0011\t\t0.0000\n",
            "[1 0 1 0 1 0 0 1]\t-0.0019\t\t0.0000\n",
            "[1 1 0 1 1 1 0 1]\t4.0286\t\t0.0000\n",
            "[0 0 0 1 0 0 0 0]\t9.0671\t\t0.0000\n",
            "[0 0 0 1 1 1 1 0]\t-0.0015\t\t0.0000\n",
            "[0 1 0 1 1 1 0 1]\t1.0059\t\t0.0000\n",
            "[0 1 0 0 1 1 1 0]\t-0.0008\t\t0.0000\n",
            "[0 1 0 1 0 0 0 1]\t1.0061\t\t0.0000\n",
            "[0 0 0 0 0 0 1 1]\t4.0288\t\t0.0000\n",
            "[1 0 0 1 0 0 1 0]\t1.0061\t\t0.0000\n",
            "[0 0 0 0 0 1 0 0]\t9.0676\t\t0.0000\n",
            "[1 0 0 1 1 0 1 1]\t1.0053\t\t0.0000\n",
            "[0 1 1 1 1 1 0 0]\t1.0062\t\t0.0000\n",
            "[1 1 1 0 1 1 1 1]\t9.0663\t\t0.0000\n",
            "[0 1 0 1 0 1 0 0]\t1.0067\t\t0.0000\n",
            "[0 0 1 1 0 1 0 0]\t1.0061\t\t0.0000\n",
            "[1 1 0 0 1 1 0 0]\t-0.0005\t\t0.0000\n",
            "[1 0 0 0 1 0 1 0]\t1.0064\t\t0.0000\n",
            "[0 1 1 0 0 0 1 1]\t-0.0017\t\t0.0000\n",
            "[0 1 0 1 0 1 1 0]\t-0.0011\t\t0.0000\n",
            "[1 0 0 0 0 0 0 1]\t4.0289\t\t0.0000\n",
            "[0 0 1 0 1 0 0 1]\t1.0058\t\t0.0000\n",
            "[1 1 1 0 0 1 0 0]\t-0.0008\t\t0.0000\n",
            "[1 0 0 0 0 0 1 1]\t1.0059\t\t0.0000\n",
            "[1 0 1 1 0 0 0 1]\t-0.0022\t\t0.0000\n",
            "[0 1 0 0 0 0 0 0]\t9.0677\t\t0.0000\n",
            "[1 0 0 1 1 0 0 1]\t-0.0020\t\t0.0000\n",
            "[1 0 0 0 1 0 0 0]\t4.0294\t\t0.0000\n",
            "[1 0 1 1 1 1 1 1]\t9.0654\t\t0.0000\n",
            "[0 1 1 0 0 0 0 1]\t1.0062\t\t0.0000\n",
            "[0 1 0 0 1 0 0 1]\t1.0064\t\t0.0000\n",
            "[0 0 0 1 0 1 0 1]\t1.0059\t\t0.0000\n",
            "[1 1 0 0 1 1 1 0]\t1.0067\t\t0.0000\n",
            "[1 0 1 1 0 0 1 1]\t1.0051\t\t0.0000\n",
            "[0 0 1 1 0 1 1 0]\t-0.0017\t\t0.0000\n",
            "[0 0 0 1 1 0 1 1]\t-0.0021\t\t0.0000\n",
            "[1 0 1 0 0 0 1 0]\t1.0062\t\t0.0000\n",
            "[1 1 0 1 1 1 1 1]\t9.0661\t\t0.0000\n",
            "[1 0 1 0 1 0 1 1]\t1.0054\t\t0.0000\n",
            "[1 1 1 0 0 0 0 1]\t-0.0013\t\t0.0000\n",
            "[0 0 1 1 0 0 0 1]\t1.0055\t\t0.0000\n",
            "[1 1 1 0 0 0 1 1]\t1.0060\t\t0.0000\n",
            "[0 1 0 0 1 0 1 1]\t-0.0014\t\t0.0000\n",
            "[0 1 0 0 0 1 0 0]\t4.0299\t\t0.0000\n",
            "[0 1 1 0 1 1 0 0]\t-0.0009\t\t0.0000\n",
            "[0 0 1 0 1 1 0 0]\t1.0065\t\t0.0000\n",
            "[1 1 1 0 0 1 1 0]\t1.0065\t\t0.0000\n",
            "[0 1 1 0 1 0 0 0]\t1.0067\t\t0.0000\n",
            "[1 1 0 0 1 0 1 1]\t1.0061\t\t0.0000\n",
            "[1 1 1 1 0 1 1 1]\t9.0660\t\t0.0000\n",
            "[1 1 0 0 0 1 1 0]\t-0.0007\t\t0.0000\n",
            "[1 1 1 0 1 1 1 0]\t4.0290\t\t0.0000\n",
            "[0 0 1 0 0 0 1 0]\t4.0290\t\t0.0000\n",
            "[0 0 0 1 0 1 0 0]\t4.0293\t\t0.0000\n",
            "[0 1 1 0 0 1 0 0]\t1.0068\t\t0.0000\n",
            "[0 0 1 1 0 0 1 1]\t-0.0024\t\t0.0000\n",
            "[1 0 0 0 0 0 0 0]\t9.0674\t\t0.0000\n",
            "[0 0 1 1 1 1 0 0]\t-0.0016\t\t0.0000\n",
            "[1 0 1 0 1 0 0 0]\t1.0063\t\t0.0000\n",
            "[0 0 1 1 1 1 1 0]\t1.0056\t\t0.0000\n",
            "[0 0 0 1 0 1 1 0]\t1.0063\t\t0.0000\n",
            "[0 0 0 0 1 0 1 0]\t4.0293\t\t0.0000\n",
            "[1 0 0 1 1 1 0 0]\t-0.0013\t\t0.0000\n",
            "[0 1 1 1 1 1 1 1]\t9.0657\t\t0.0000\n",
            "[0 1 1 0 1 0 1 1]\t1.0057\t\t0.0000\n",
            "[0 1 0 0 0 0 1 1]\t1.0063\t\t0.0000\n",
            "[1 1 1 1 1 1 0 1]\t9.0661\t\t0.0000\n",
            "[1 0 0 0 0 0 1 0]\t4.0293\t\t0.0000\n",
            "[1 0 0 1 0 0 1 1]\t-0.0021\t\t0.0000\n",
            "[1 0 1 0 1 0 1 0]\t-0.0015\t\t0.0000\n",
            "[0 1 0 1 0 1 1 1]\t1.0058\t\t0.0000\n",
            "[1 1 0 1 0 1 0 1]\t1.0061\t\t0.0000\n",
            "[1 0 1 1 1 0 1 1]\t4.0277\t\t0.0000\n",
            "[0 1 0 1 0 1 0 1]\t-0.0015\t\t0.0000\n",
            "[0 1 1 1 1 1 0 1]\t4.0282\t\t0.0000\n",
            "[0 0 0 1 1 0 0 1]\t1.0057\t\t0.0000\n",
            "[0 1 1 1 1 1 1 0]\t4.0285\t\t0.0000\n",
            "[1 1 1 0 1 0 0 1]\t1.0061\t\t0.0000\n",
            "[0 0 0 0 1 0 0 0]\t9.0675\t\t0.0000\n",
            "[1 1 0 0 0 0 0 1]\t1.0065\t\t0.0000\n",
            "[0 0 1 1 1 0 1 1]\t1.0050\t\t0.0000\n",
            "[0 0 0 1 0 0 1 1]\t1.0056\t\t0.0000\n",
            "[0 0 0 1 0 0 0 1]\t4.0286\t\t0.0000\n",
            "[0 0 1 1 1 0 0 1]\t-0.0022\t\t0.0000\n",
            "[1 0 1 1 0 1 1 0]\t1.0057\t\t0.0000\n",
            "[1 0 0 1 1 1 1 0]\t1.0059\t\t0.0000\n",
            "[1 0 0 1 0 1 0 0]\t1.0064\t\t0.0000\n",
            "[0 0 1 0 0 0 0 0]\t9.0671\t\t0.0000\n",
            "[0 0 0 0 0 0 0 0]\t16.1205\t\t0.0000\n",
            "[0 0 1 0 1 0 0 0]\t4.0292\t\t0.0000\n",
            "[1 1 0 0 0 1 0 0]\t1.0072\t\t0.0000\n",
            "[1 1 0 1 0 1 1 1]\t4.0285\t\t0.0000\n",
            "[1 0 1 1 1 1 1 0]\t4.0282\t\t0.0000\n",
            "[0 1 1 0 1 1 1 0]\t1.0063\t\t0.0000\n",
            "[1 1 1 0 1 1 0 0]\t1.0067\t\t0.0000\n",
            "[1 0 1 1 1 1 0 0]\t1.0058\t\t0.0000\n",
            "[1 1 1 1 1 1 1 1]\t16.1188\t\t0.0000\n",
            "[1 0 0 1 0 1 1 0]\t-0.0015\t\t0.0000\n",
            "[0 1 0 0 0 1 1 0]\t1.0069\t\t0.0000\n",
            "[1 0 1 1 0 1 0 0]\t-0.0016\t\t0.0000\n",
            "[1 1 0 0 1 0 0 1]\t-0.0012\t\t0.0000\n",
            "[1 0 1 0 0 0 0 0]\t4.0291\t\t0.0000\n",
            "[1 1 0 0 0 0 1 1]\t-0.0013\t\t0.0000\n",
            "[1 1 1 0 1 0 1 1]\t4.0285\t\t0.0000\n",
            "[0 0 1 0 1 0 1 0]\t1.0062\t\t0.0000\n",
            "[0 0 0 0 0 0 0 1]\t9.0669\t\t0.0000\n",
            "[0 0 0 0 0 0 1 0]\t9.0673\t\t0.0000\n",
            "[0 1 1 0 1 0 0 1]\t-0.0015\t\t0.0000\n",
            "[1 0 1 1 1 0 0 1]\t1.0052\t\t0.0000\n",
            "[1 0 0 1 0 0 0 1]\t1.0057\t\t0.0000\n",
            "[0 1 0 0 0 0 0 1]\t4.0292\t\t0.0000\n"
          ]
        }
      ],
      "source": [
        "# VQE solution\n",
        "#provide fname ='complete address/location of your .csv file'\n",
        "\n",
        "from qiskit.utils import algorithm_globals\n",
        "\n",
        "algorithm_globals.random_seed = 1234\n",
        "backend = Aer.get_backend(\"statevector_simulator\")\n",
        "\n",
        "cobyla = COBYLA()\n",
        "cobyla.set_options(maxiter=500)\n",
        "ry = TwoLocal(num_assets, \"ry\", \"cz\", reps=3, entanglement=\"full\")\n",
        "quantum_instance = QuantumInstance(backend=backend, shots=8192, seed_simulator=seed, seed_transpiler=seed)\n",
        "vqe_mes = VQE(ry, optimizer=cobyla, quantum_instance=quantum_instance)\n",
        "vqe = MinimumEigenOptimizer(vqe_mes)\n",
        "result = vqe.solve(qp)\n",
        "\n",
        "fname = 'vqe1.csv' #change the location and name of .csv file\n",
        "print_result(result, fname)\n",
        "# print(result)\n",
        "\n",
        "#[0, 0, 1, 1, 0, 0, 1, 1] --numpy exact solver"
      ]
    },
    {
      "cell_type": "code",
      "execution_count": null,
      "id": "e1e17bcb",
      "metadata": {
        "colab": {
          "base_uri": "https://localhost:8080/"
        },
        "id": "e1e17bcb",
        "outputId": "d23448b4-908a-4273-daca-82f992cf5679"
      },
      "outputs": [
        {
          "output_type": "stream",
          "name": "stdout",
          "text": [
            "Optimal: selection [0. 0. 1. 1. 0. 0. 1. 1.], value -0.0024\n",
            "\n",
            "----------------- Full result ---------------------\n",
            "selection\tvalue\t\tprobability\n",
            "---------------------------------------------------\n",
            "[0 0 1 1 0 0 1 1]\t-0.0024\t\t0.0128\n",
            "[0 0 1 1 1 0 0 1]\t-0.0022\t\t0.0128\n",
            "[0 0 0 1 1 0 1 1]\t-0.0021\t\t0.0128\n",
            "[0 0 1 1 0 1 0 1]\t-0.0021\t\t0.0128\n",
            "[1 0 1 1 0 0 0 1]\t-0.0022\t\t0.0128\n",
            "[0 0 1 0 1 0 1 1]\t-0.0020\t\t0.0128\n",
            "[0 0 0 1 0 1 1 1]\t-0.0020\t\t0.0128\n",
            "[1 0 0 1 0 0 1 1]\t-0.0021\t\t0.0128\n",
            "[0 0 1 0 0 1 1 1]\t-0.0019\t\t0.0128\n",
            "[0 0 1 1 1 0 1 0]\t-0.0019\t\t0.0128\n",
            "[0 0 0 1 1 1 0 1]\t-0.0019\t\t0.0128\n",
            "[1 0 1 0 0 0 1 1]\t-0.0020\t\t0.0128\n",
            "[1 0 0 1 1 0 0 1]\t-0.0020\t\t0.0128\n",
            "[0 0 0 0 1 1 1 1]\t-0.0016\t\t0.0128\n",
            "[0 0 1 0 1 1 0 1]\t-0.0018\t\t0.0128\n",
            "[0 0 1 1 0 1 1 0]\t-0.0017\t\t0.0128\n",
            "[0 1 1 1 0 0 0 1]\t-0.0018\t\t0.0128\n",
            "[1 0 1 0 1 0 0 1]\t-0.0019\t\t0.0128\n",
            "[1 0 1 1 0 0 1 0]\t-0.0018\t\t0.0128\n",
            "[1 0 0 1 0 1 0 1]\t-0.0018\t\t0.0128\n",
            "[1 0 0 0 1 0 1 1]\t-0.0018\t\t0.0128\n",
            "[0 0 1 1 1 1 0 0]\t-0.0016\t\t0.0128\n",
            "[0 1 0 1 0 0 1 1]\t-0.0017\t\t0.0128\n",
            "[0 0 0 1 1 1 1 0]\t-0.0015\t\t0.0128\n",
            "[1 0 1 0 0 1 0 1]\t-0.0017\t\t0.0128\n",
            "[1 0 1 1 1 0 0 0]\t-0.0017\t\t0.0128\n",
            "[1 1 0 1 0 0 0 1]\t-0.0014\t\t0.0128\n",
            "[0 1 1 0 0 0 1 1]\t-0.0017\t\t0.0128\n",
            "[1 0 0 0 0 1 1 1]\t-0.0016\t\t0.0128\n",
            "[0 0 1 0 1 1 1 0]\t-0.0014\t\t0.0128\n",
            "[1 1 1 0 0 0 0 1]\t-0.0013\t\t0.0128\n",
            "[0 1 0 1 1 0 0 1]\t-0.0016\t\t0.0128\n",
            "[1 0 0 1 1 0 1 0]\t-0.0016\t\t0.0128\n",
            "[1 0 1 1 0 1 0 0]\t-0.0016\t\t0.0128\n",
            "[1 0 0 0 1 1 0 1]\t-0.0015\t\t0.0128\n",
            "[0 1 1 0 1 0 0 1]\t-0.0015\t\t0.0128\n",
            "[1 0 1 0 1 0 1 0]\t-0.0015\t\t0.0128\n",
            "[0 1 1 1 0 0 1 0]\t-0.0015\t\t0.0128\n",
            "[0 1 0 1 0 1 0 1]\t-0.0015\t\t0.0128\n",
            "[1 0 0 1 0 1 1 0]\t-0.0015\t\t0.0128\n",
            "[1 1 1 1 0 0 0 0]\t-0.0012\t\t0.0128\n",
            "[1 1 0 0 0 0 1 1]\t-0.0013\t\t0.0128\n",
            "[0 1 0 0 1 0 1 1]\t-0.0014\t\t0.0128\n",
            "[0 1 1 0 0 1 0 1]\t-0.0014\t\t0.0128\n",
            "[1 0 1 0 0 1 1 0]\t-0.0014\t\t0.0128\n",
            "[0 1 1 1 1 0 0 0]\t-0.0014\t\t0.0128\n",
            "[1 0 0 1 1 1 0 0]\t-0.0013\t\t0.0128\n",
            "[1 1 0 0 1 0 0 1]\t-0.0012\t\t0.0128\n",
            "[0 1 0 0 0 1 1 1]\t-0.0013\t\t0.0128\n",
            "[1 1 0 1 0 0 1 0]\t-0.0011\t\t0.0128\n",
            "[1 0 1 0 1 1 0 0]\t-0.0013\t\t0.0128\n",
            "[0 1 0 1 1 0 1 0]\t-0.0013\t\t0.0128\n",
            "[0 1 1 1 0 1 0 0]\t-0.0012\t\t0.0128\n",
            "[1 1 1 0 0 0 1 0]\t-0.0010\t\t0.0128\n",
            "[1 0 0 0 1 1 1 0]\t-0.0011\t\t0.0128\n",
            "[1 1 0 0 0 1 0 1]\t-0.0010\t\t0.0128\n",
            "[0 1 0 0 1 1 0 1]\t-0.0012\t\t0.0128\n",
            "[0 1 1 0 1 0 1 0]\t-0.0012\t\t0.0128\n",
            "[1 1 0 1 1 0 0 0]\t-0.0010\t\t0.0128\n",
            "[0 1 0 1 0 1 1 0]\t-0.0011\t\t0.0128\n",
            "[1 1 1 0 1 0 0 0]\t-0.0009\t\t0.0128\n",
            "[0 1 1 0 0 1 1 0]\t-0.0011\t\t0.0128\n",
            "[1 1 0 1 0 1 0 0]\t-0.0009\t\t0.0128\n",
            "[0 1 0 1 1 1 0 0]\t-0.0010\t\t0.0128\n",
            "[1 1 1 0 0 1 0 0]\t-0.0008\t\t0.0128\n",
            "[1 1 0 0 1 0 1 0]\t-0.0008\t\t0.0128\n",
            "[0 1 1 0 1 1 0 0]\t-0.0009\t\t0.0128\n",
            "[0 1 0 0 1 1 1 0]\t-0.0008\t\t0.0128\n",
            "[1 1 0 0 0 1 1 0]\t-0.0007\t\t0.0128\n",
            "[1 1 0 0 1 1 0 0]\t-0.0005\t\t0.0128\n",
            "[1 1 1 1 1 1 1 1]\t16.1188\t\t0.0022\n",
            "[0 0 0 0 0 0 0 0]\t16.1205\t\t0.0022\n",
            "[0 0 0 0 1 1 1 0]\t1.0066\t\t0.0008\n",
            "[0 0 0 0 1 0 1 1]\t1.0060\t\t0.0008\n",
            "[0 0 0 0 0 1 1 1]\t1.0061\t\t0.0008\n",
            "[0 0 0 1 1 0 1 0]\t1.0061\t\t0.0008\n",
            "[0 0 0 1 0 1 1 0]\t1.0063\t\t0.0008\n",
            "[0 0 0 1 0 0 1 1]\t1.0056\t\t0.0008\n",
            "[0 0 0 0 1 1 0 1]\t1.0062\t\t0.0008\n",
            "[0 0 0 1 1 1 0 0]\t1.0064\t\t0.0008\n",
            "[1 1 1 1 0 0 0 1]\t1.0058\t\t0.0008\n",
            "[0 0 0 1 0 1 0 1]\t1.0059\t\t0.0008\n",
            "[0 0 0 1 1 0 0 1]\t1.0057\t\t0.0008\n",
            "[0 0 1 0 1 0 1 0]\t1.0062\t\t0.0008\n",
            "[0 0 1 1 0 0 1 0]\t1.0059\t\t0.0008\n",
            "[0 0 1 0 0 1 1 0]\t1.0063\t\t0.0008\n",
            "[0 0 1 0 0 0 1 1]\t1.0057\t\t0.0008\n",
            "[0 0 1 0 1 1 0 0]\t1.0065\t\t0.0008\n",
            "[0 0 1 1 0 1 0 0]\t1.0061\t\t0.0008\n",
            "[0 0 1 1 0 0 0 1]\t1.0055\t\t0.0008\n",
            "[0 0 1 1 1 0 0 0]\t1.0060\t\t0.0008\n",
            "[0 0 1 0 1 0 0 1]\t1.0058\t\t0.0008\n",
            "[0 0 1 0 0 1 0 1]\t1.0059\t\t0.0008\n",
            "[1 1 1 0 0 0 1 1]\t1.0060\t\t0.0008\n",
            "[1 1 1 0 1 0 0 1]\t1.0061\t\t0.0008\n",
            "[1 1 0 1 0 0 1 1]\t1.0058\t\t0.0008\n",
            "[1 1 1 1 0 0 1 0]\t1.0061\t\t0.0008\n",
            "[1 1 0 1 1 0 0 1]\t1.0060\t\t0.0008\n",
            "[1 1 1 0 0 1 0 1]\t1.0062\t\t0.0008\n",
            "[1 0 1 1 0 0 1 1]\t1.0051\t\t0.0008\n",
            "[1 1 1 1 1 0 0 0]\t1.0063\t\t0.0008\n",
            "[1 1 0 1 0 1 0 1]\t1.0061\t\t0.0008\n",
            "[1 0 0 0 0 0 1 1]\t1.0059\t\t0.0008\n",
            "[1 1 1 1 0 1 0 0]\t1.0064\t\t0.0008\n",
            "[1 0 0 0 1 0 1 0]\t1.0064\t\t0.0008\n",
            "[1 0 1 1 1 0 0 1]\t1.0052\t\t0.0008\n",
            "[1 0 0 0 0 1 1 0]\t1.0066\t\t0.0008\n",
            "[1 0 0 1 0 0 0 1]\t1.0057\t\t0.0008\n",
            "[1 0 0 0 1 1 0 0]\t1.0067\t\t0.0008\n",
            "[1 0 0 1 0 0 1 0]\t1.0061\t\t0.0008\n",
            "[1 0 0 0 1 0 0 1]\t1.0061\t\t0.0008\n",
            "[1 0 0 0 0 1 0 1]\t1.0062\t\t0.0008\n",
            "[0 1 1 1 0 0 1 1]\t1.0055\t\t0.0008\n",
            "[1 0 0 1 1 0 0 0]\t1.0062\t\t0.0008\n",
            "[1 0 0 1 0 1 0 0]\t1.0064\t\t0.0008\n",
            "[0 0 1 1 1 0 1 1]\t1.0050\t\t0.0008\n",
            "[1 0 1 1 0 1 0 1]\t1.0054\t\t0.0008\n",
            "[1 1 0 0 1 0 1 1]\t1.0061\t\t0.0008\n",
            "[0 1 0 0 0 0 1 1]\t1.0063\t\t0.0008\n",
            "[0 1 0 0 1 0 1 0]\t1.0068\t\t0.0008\n",
            "[1 0 1 1 0 0 0 0]\t1.0060\t\t0.0008\n",
            "[0 1 0 1 0 0 1 0]\t1.0065\t\t0.0008\n",
            "[0 1 0 0 0 1 1 0]\t1.0069\t\t0.0008\n",
            "[0 1 0 1 0 0 0 1]\t1.0061\t\t0.0008\n",
            "[0 1 0 0 1 1 0 0]\t1.0071\t\t0.0008\n",
            "[1 0 1 0 0 0 0 1]\t1.0058\t\t0.0008\n",
            "[1 0 1 0 0 0 1 0]\t1.0062\t\t0.0008\n",
            "[0 1 0 0 1 0 0 1]\t1.0064\t\t0.0008\n",
            "[0 1 1 1 1 0 0 1]\t1.0056\t\t0.0008\n",
            "[0 1 0 1 0 1 0 0]\t1.0067\t\t0.0008\n",
            "[0 1 0 1 1 0 0 0]\t1.0066\t\t0.0008\n",
            "[0 1 0 0 0 1 0 1]\t1.0065\t\t0.0008\n",
            "[1 0 1 0 1 0 0 0]\t1.0063\t\t0.0008\n",
            "[0 0 1 1 0 1 1 1]\t1.0052\t\t0.0008\n",
            "[1 0 1 0 0 1 0 0]\t1.0065\t\t0.0008\n",
            "[1 1 1 0 1 0 1 0]\t1.0064\t\t0.0008\n",
            "[1 0 1 0 1 0 1 1]\t1.0054\t\t0.0008\n",
            "[0 1 1 1 0 0 0 0]\t1.0064\t\t0.0008\n",
            "[1 1 0 0 0 1 1 1]\t1.0063\t\t0.0008\n",
            "[1 0 0 1 1 0 1 1]\t1.0053\t\t0.0008\n",
            "[1 1 0 0 1 1 0 1]\t1.0064\t\t0.0008\n",
            "[0 1 1 0 0 0 1 0]\t1.0065\t\t0.0008\n",
            "[0 1 1 1 0 1 0 1]\t1.0057\t\t0.0008\n",
            "[0 1 1 0 0 0 0 1]\t1.0062\t\t0.0008\n",
            "[0 0 1 1 1 1 0 1]\t1.0053\t\t0.0008\n",
            "[1 1 0 1 1 0 1 0]\t1.0063\t\t0.0008\n",
            "[0 1 1 0 1 0 0 0]\t1.0067\t\t0.0008\n",
            "[0 1 1 0 0 1 0 0]\t1.0068\t\t0.0008\n",
            "[1 1 1 0 0 1 1 0]\t1.0065\t\t0.0008\n",
            "[1 1 1 0 1 1 0 0]\t1.0067\t\t0.0008\n",
            "[1 0 1 0 0 1 1 1]\t1.0055\t\t0.0008\n",
            "[1 1 0 0 0 0 0 1]\t1.0065\t\t0.0008\n",
            "[1 1 0 1 0 0 0 0]\t1.0067\t\t0.0008\n",
            "[1 0 1 1 1 0 1 0]\t1.0056\t\t0.0008\n",
            "[1 0 0 1 0 1 1 1]\t1.0054\t\t0.0008\n",
            "[1 0 1 0 1 1 0 1]\t1.0057\t\t0.0008\n",
            "[0 0 0 1 1 1 1 1]\t1.0054\t\t0.0008\n",
            "[0 0 1 0 1 1 1 1]\t1.0055\t\t0.0008\n",
            "[1 1 0 0 0 0 1 0]\t1.0069\t\t0.0008\n",
            "[0 1 1 0 1 0 1 1]\t1.0057\t\t0.0008\n",
            "[1 1 0 0 1 0 0 0]\t1.0070\t\t0.0008\n",
            "[1 1 1 0 0 0 0 0]\t1.0068\t\t0.0008\n",
            "[1 1 0 1 0 1 1 0]\t1.0064\t\t0.0008\n",
            "[1 1 0 0 0 1 0 0]\t1.0072\t\t0.0008\n",
            "[0 1 0 1 1 0 1 1]\t1.0056\t\t0.0008\n",
            "[1 0 0 1 1 1 0 1]\t1.0056\t\t0.0008\n",
            "[1 1 0 1 1 1 0 0]\t1.0065\t\t0.0008\n",
            "[1 0 1 1 0 1 1 0]\t1.0057\t\t0.0008\n",
            "[0 1 1 0 0 1 1 1]\t1.0059\t\t0.0008\n",
            "[1 0 1 1 1 1 0 0]\t1.0058\t\t0.0008\n",
            "[0 1 1 1 1 0 1 0]\t1.0059\t\t0.0008\n",
            "[0 0 1 1 1 1 1 0]\t1.0056\t\t0.0008\n",
            "[0 1 0 1 0 1 1 1]\t1.0058\t\t0.0008\n",
            "[1 0 0 0 1 1 1 1]\t1.0058\t\t0.0008\n",
            "[0 1 1 0 1 1 0 1]\t1.0060\t\t0.0008\n",
            "[0 1 1 1 0 1 1 0]\t1.0060\t\t0.0008\n",
            "[0 1 0 1 1 1 0 1]\t1.0059\t\t0.0008\n",
            "[1 1 0 0 1 1 1 0]\t1.0067\t\t0.0008\n",
            "[0 1 1 1 1 1 0 0]\t1.0062\t\t0.0008\n",
            "[1 0 1 0 1 1 1 0]\t1.0060\t\t0.0008\n",
            "[0 1 0 0 1 1 1 1]\t1.0061\t\t0.0008\n",
            "[1 0 0 1 1 1 1 0]\t1.0059\t\t0.0008\n",
            "[0 1 1 0 1 1 1 0]\t1.0063\t\t0.0008\n",
            "[0 1 0 1 1 1 1 0]\t1.0062\t\t0.0008\n",
            "[1 0 0 0 0 0 0 1]\t4.0289\t\t0.0001\n",
            "[1 0 1 0 0 0 0 0]\t4.0291\t\t0.0001\n",
            "[0 0 1 0 0 0 0 1]\t4.0286\t\t0.0001\n",
            "[1 0 0 1 0 0 0 0]\t4.0291\t\t0.0001\n",
            "[0 1 0 0 0 0 0 1]\t4.0292\t\t0.0001\n",
            "[0 0 0 1 0 0 0 1]\t4.0286\t\t0.0001\n",
            "[1 1 0 0 0 0 0 0]\t4.0298\t\t0.0001\n",
            "[0 1 1 0 0 0 0 0]\t4.0295\t\t0.0001\n",
            "[0 0 1 1 0 0 0 0]\t4.0288\t\t0.0001\n",
            "[0 1 0 1 0 0 0 0]\t4.0294\t\t0.0001\n",
            "[1 0 0 0 0 0 1 0]\t4.0293\t\t0.0001\n",
            "[1 0 0 0 1 0 0 0]\t4.0294\t\t0.0001\n",
            "[0 0 0 0 0 0 1 1]\t4.0288\t\t0.0001\n",
            "[0 0 0 0 1 0 0 1]\t4.0289\t\t0.0001\n",
            "[0 0 1 0 0 0 1 0]\t4.0290\t\t0.0001\n",
            "[1 0 0 0 0 1 0 0]\t4.0296\t\t0.0001\n",
            "[0 1 0 0 0 0 1 0]\t4.0296\t\t0.0001\n",
            "[0 0 1 0 1 0 0 0]\t4.0292\t\t0.0001\n",
            "[0 0 0 1 0 0 1 0]\t4.0290\t\t0.0001\n",
            "[0 0 0 0 0 1 0 1]\t4.0291\t\t0.0001\n",
            "[0 1 0 0 1 0 0 0]\t4.0298\t\t0.0001\n",
            "[0 0 0 1 1 0 0 0]\t4.0291\t\t0.0001\n",
            "[0 0 1 0 0 1 0 0]\t4.0293\t\t0.0001\n",
            "[0 1 0 0 0 1 0 0]\t4.0299\t\t0.0001\n",
            "[0 0 0 1 0 1 0 0]\t4.0293\t\t0.0001\n",
            "[0 0 0 0 1 0 1 0]\t4.0293\t\t0.0001\n",
            "[0 0 0 0 0 1 1 0]\t4.0295\t\t0.0001\n",
            "[0 0 0 0 1 1 0 0]\t4.0296\t\t0.0001\n",
            "[0 0 1 1 1 1 1 1]\t4.0277\t\t0.0001\n",
            "[1 0 0 1 1 1 1 1]\t4.0279\t\t0.0001\n",
            "[0 1 0 1 1 1 1 1]\t4.0283\t\t0.0001\n",
            "[1 0 1 1 1 0 1 1]\t4.0277\t\t0.0001\n",
            "[1 0 1 1 1 1 1 0]\t4.0282\t\t0.0001\n",
            "[1 0 1 1 0 1 1 1]\t4.0278\t\t0.0001\n",
            "[1 0 1 0 1 1 1 1]\t4.0281\t\t0.0001\n",
            "[1 0 1 1 1 1 0 1]\t4.0279\t\t0.0001\n",
            "[0 1 1 1 1 0 1 1]\t4.0280\t\t0.0001\n",
            "[0 1 1 0 1 1 1 1]\t4.0284\t\t0.0001\n",
            "[0 1 1 1 1 1 1 0]\t4.0285\t\t0.0001\n",
            "[0 1 1 1 0 1 1 1]\t4.0281\t\t0.0001\n",
            "[0 1 1 1 1 1 0 1]\t4.0282\t\t0.0001\n",
            "[1 1 0 1 1 1 1 0]\t4.0289\t\t0.0001\n",
            "[1 1 0 1 1 0 1 1]\t4.0284\t\t0.0001\n",
            "[1 1 0 1 0 1 1 1]\t4.0285\t\t0.0001\n",
            "[1 1 0 0 1 1 1 1]\t4.0288\t\t0.0001\n",
            "[1 1 0 1 1 1 0 1]\t4.0286\t\t0.0001\n",
            "[1 1 1 0 1 1 1 0]\t4.0290\t\t0.0001\n",
            "[1 1 1 1 1 0 1 0]\t4.0287\t\t0.0001\n",
            "[1 1 1 0 1 0 1 1]\t4.0285\t\t0.0001\n",
            "[1 1 1 0 0 1 1 1]\t4.0286\t\t0.0001\n",
            "[1 1 1 1 0 1 1 0]\t4.0288\t\t0.0001\n",
            "[1 1 1 1 0 0 1 1]\t4.0282\t\t0.0001\n",
            "[1 1 1 0 1 1 0 1]\t4.0288\t\t0.0001\n",
            "[1 1 1 1 1 1 0 0]\t4.0289\t\t0.0001\n",
            "[1 1 1 1 1 0 0 1]\t4.0284\t\t0.0001\n",
            "[1 1 1 1 0 1 0 1]\t4.0285\t\t0.0001\n",
            "[0 0 0 0 0 0 0 1]\t9.0669\t\t0.0000\n",
            "[0 0 0 1 0 0 0 0]\t9.0671\t\t0.0000\n",
            "[0 0 1 0 0 0 0 0]\t9.0671\t\t0.0000\n",
            "[1 0 0 0 0 0 0 0]\t9.0674\t\t0.0000\n",
            "[0 0 0 0 0 0 1 0]\t9.0673\t\t0.0000\n",
            "[0 0 0 0 1 0 0 0]\t9.0675\t\t0.0000\n",
            "[0 0 0 0 0 1 0 0]\t9.0676\t\t0.0000\n",
            "[0 1 0 0 0 0 0 0]\t9.0677\t\t0.0000\n",
            "[1 0 1 1 1 1 1 1]\t9.0654\t\t0.0000\n",
            "[0 1 1 1 1 1 1 1]\t9.0657\t\t0.0000\n",
            "[1 1 1 1 1 0 1 1]\t9.0659\t\t0.0000\n",
            "[1 1 1 1 0 1 1 1]\t9.0660\t\t0.0000\n",
            "[1 1 0 1 1 1 1 1]\t9.0661\t\t0.0000\n",
            "[1 1 1 1 1 1 0 1]\t9.0661\t\t0.0000\n",
            "[1 1 1 0 1 1 1 1]\t9.0663\t\t0.0000\n",
            "[1 1 1 1 1 1 1 0]\t9.0664\t\t0.0000\n"
          ]
        }
      ],
      "source": [
        "# QAOA solution\n",
        "#provide fname ='complete address/location of your .csv file'\n",
        "\n",
        "algorithm_globals.random_seed = 1234\n",
        "backend = Aer.get_backend(\"statevector_simulator\")\n",
        "\n",
        "cobyla = COBYLA()\n",
        "cobyla.set_options(maxiter=250)\n",
        "quantum_instance = QuantumInstance(backend=backend, shots=8192, seed_simulator=seed, seed_transpiler=seed)\n",
        "qaoa_mes = QAOA(optimizer=cobyla, reps=3, quantum_instance=quantum_instance)\n",
        "qaoa = MinimumEigenOptimizer(qaoa_mes)\n",
        "result = qaoa.solve(qp)\n",
        "\n",
        "fname = 'qaoa1.csv' #change the location and name of .csv file\n",
        "print_result(result, fname)\n",
        "\n",
        "# [0. 0. 1. 1. 0. 1.] -numpy exact solver"
      ]
    },
    {
      "cell_type": "markdown",
      "source": [
        "### here also VQE doesn' performs well. \n",
        "### QAOA and exact solver produces same result. [0, 0, 1, 1, 0, 0, 1, 1] this is solution given by QAOA and Exact solver. "
      ],
      "metadata": {
        "id": "UtaD8VHTz6WI"
      },
      "id": "UtaD8VHTz6WI"
    },
    {
      "cell_type": "markdown",
      "source": [
        "#### weight allocation part after asset selection using quantum"
      ],
      "metadata": {
        "id": "4-NjMNcEnsTz"
      },
      "id": "4-NjMNcEnsTz"
    },
    {
      "cell_type": "code",
      "execution_count": null,
      "id": "9c0de3f5",
      "metadata": {
        "colab": {
          "base_uri": "https://localhost:8080/"
        },
        "id": "9c0de3f5",
        "outputId": "c40177e4-235b-4d82-ebad-6ed5d731fcd4"
      },
      "outputs": [
        {
          "output_type": "stream",
          "name": "stdout",
          "text": [
            "your lucky assets are  ['MSFT', 'AAPL', 'MCD', 'NKE']\n"
          ]
        }
      ],
      "source": [
        "selected_assets = [0, 0, 1, 1, 0, 0, 1, 1]\n",
        "assets = [\"JPM\", \"GS\", \"MSFT\", \"AAPL\", \"KO\", \"WMT\", \"MCD\", \"NKE\"]\n",
        "\n",
        "selected_bitstring = [i for i, e in enumerate(selected_assets) if e == 1]\n",
        "# print(selected_bitstring)\n",
        "my_assets = [assets[i] for i in selected_bitstring]\n",
        "print(\"your lucky assets are \",my_assets)"
      ]
    },
    {
      "cell_type": "code",
      "execution_count": null,
      "id": "Avqhq9mOaevq",
      "metadata": {
        "colab": {
          "base_uri": "https://localhost:8080/",
          "height": 256
        },
        "id": "Avqhq9mOaevq",
        "outputId": "1e1153bc-ec1d-441a-dd09-c0e8cbfbe0d1"
      },
      "outputs": [
        {
          "output_type": "stream",
          "name": "stdout",
          "text": [
            "[*********************100%***********************]  4 of 4 completed\n"
          ]
        },
        {
          "output_type": "execute_result",
          "data": {
            "text/plain": [
              "                 AAPL        MCD       MSFT        NKE\n",
              "Date                                                  \n",
              "2011-01-03  10.049909  55.079613  21.917927  18.765158\n",
              "2011-01-04  10.102357  53.432983  22.004097  18.303066\n",
              "2011-01-05  10.184995  53.684654  21.933594  18.422949\n",
              "2011-01-06  10.176762  53.361065  22.575932  18.257292\n",
              "2011-01-07  10.249643  53.476139  22.403603  18.207163"
            ],
            "text/html": [
              "\n",
              "  <div id=\"df-fa09f221-ed89-481d-81e4-bfe4ff68aac3\">\n",
              "    <div class=\"colab-df-container\">\n",
              "      <div>\n",
              "<style scoped>\n",
              "    .dataframe tbody tr th:only-of-type {\n",
              "        vertical-align: middle;\n",
              "    }\n",
              "\n",
              "    .dataframe tbody tr th {\n",
              "        vertical-align: top;\n",
              "    }\n",
              "\n",
              "    .dataframe thead th {\n",
              "        text-align: right;\n",
              "    }\n",
              "</style>\n",
              "<table border=\"1\" class=\"dataframe\">\n",
              "  <thead>\n",
              "    <tr style=\"text-align: right;\">\n",
              "      <th></th>\n",
              "      <th>AAPL</th>\n",
              "      <th>MCD</th>\n",
              "      <th>MSFT</th>\n",
              "      <th>NKE</th>\n",
              "    </tr>\n",
              "    <tr>\n",
              "      <th>Date</th>\n",
              "      <th></th>\n",
              "      <th></th>\n",
              "      <th></th>\n",
              "      <th></th>\n",
              "    </tr>\n",
              "  </thead>\n",
              "  <tbody>\n",
              "    <tr>\n",
              "      <th>2011-01-03</th>\n",
              "      <td>10.049909</td>\n",
              "      <td>55.079613</td>\n",
              "      <td>21.917927</td>\n",
              "      <td>18.765158</td>\n",
              "    </tr>\n",
              "    <tr>\n",
              "      <th>2011-01-04</th>\n",
              "      <td>10.102357</td>\n",
              "      <td>53.432983</td>\n",
              "      <td>22.004097</td>\n",
              "      <td>18.303066</td>\n",
              "    </tr>\n",
              "    <tr>\n",
              "      <th>2011-01-05</th>\n",
              "      <td>10.184995</td>\n",
              "      <td>53.684654</td>\n",
              "      <td>21.933594</td>\n",
              "      <td>18.422949</td>\n",
              "    </tr>\n",
              "    <tr>\n",
              "      <th>2011-01-06</th>\n",
              "      <td>10.176762</td>\n",
              "      <td>53.361065</td>\n",
              "      <td>22.575932</td>\n",
              "      <td>18.257292</td>\n",
              "    </tr>\n",
              "    <tr>\n",
              "      <th>2011-01-07</th>\n",
              "      <td>10.249643</td>\n",
              "      <td>53.476139</td>\n",
              "      <td>22.403603</td>\n",
              "      <td>18.207163</td>\n",
              "    </tr>\n",
              "  </tbody>\n",
              "</table>\n",
              "</div>\n",
              "      <button class=\"colab-df-convert\" onclick=\"convertToInteractive('df-fa09f221-ed89-481d-81e4-bfe4ff68aac3')\"\n",
              "              title=\"Convert this dataframe to an interactive table.\"\n",
              "              style=\"display:none;\">\n",
              "        \n",
              "  <svg xmlns=\"http://www.w3.org/2000/svg\" height=\"24px\"viewBox=\"0 0 24 24\"\n",
              "       width=\"24px\">\n",
              "    <path d=\"M0 0h24v24H0V0z\" fill=\"none\"/>\n",
              "    <path d=\"M18.56 5.44l.94 2.06.94-2.06 2.06-.94-2.06-.94-.94-2.06-.94 2.06-2.06.94zm-11 1L8.5 8.5l.94-2.06 2.06-.94-2.06-.94L8.5 2.5l-.94 2.06-2.06.94zm10 10l.94 2.06.94-2.06 2.06-.94-2.06-.94-.94-2.06-.94 2.06-2.06.94z\"/><path d=\"M17.41 7.96l-1.37-1.37c-.4-.4-.92-.59-1.43-.59-.52 0-1.04.2-1.43.59L10.3 9.45l-7.72 7.72c-.78.78-.78 2.05 0 2.83L4 21.41c.39.39.9.59 1.41.59.51 0 1.02-.2 1.41-.59l7.78-7.78 2.81-2.81c.8-.78.8-2.07 0-2.86zM5.41 20L4 18.59l7.72-7.72 1.47 1.35L5.41 20z\"/>\n",
              "  </svg>\n",
              "      </button>\n",
              "      \n",
              "  <style>\n",
              "    .colab-df-container {\n",
              "      display:flex;\n",
              "      flex-wrap:wrap;\n",
              "      gap: 12px;\n",
              "    }\n",
              "\n",
              "    .colab-df-convert {\n",
              "      background-color: #E8F0FE;\n",
              "      border: none;\n",
              "      border-radius: 50%;\n",
              "      cursor: pointer;\n",
              "      display: none;\n",
              "      fill: #1967D2;\n",
              "      height: 32px;\n",
              "      padding: 0 0 0 0;\n",
              "      width: 32px;\n",
              "    }\n",
              "\n",
              "    .colab-df-convert:hover {\n",
              "      background-color: #E2EBFA;\n",
              "      box-shadow: 0px 1px 2px rgba(60, 64, 67, 0.3), 0px 1px 3px 1px rgba(60, 64, 67, 0.15);\n",
              "      fill: #174EA6;\n",
              "    }\n",
              "\n",
              "    [theme=dark] .colab-df-convert {\n",
              "      background-color: #3B4455;\n",
              "      fill: #D2E3FC;\n",
              "    }\n",
              "\n",
              "    [theme=dark] .colab-df-convert:hover {\n",
              "      background-color: #434B5C;\n",
              "      box-shadow: 0px 1px 3px 1px rgba(0, 0, 0, 0.15);\n",
              "      filter: drop-shadow(0px 1px 2px rgba(0, 0, 0, 0.3));\n",
              "      fill: #FFFFFF;\n",
              "    }\n",
              "  </style>\n",
              "\n",
              "      <script>\n",
              "        const buttonEl =\n",
              "          document.querySelector('#df-fa09f221-ed89-481d-81e4-bfe4ff68aac3 button.colab-df-convert');\n",
              "        buttonEl.style.display =\n",
              "          google.colab.kernel.accessAllowed ? 'block' : 'none';\n",
              "\n",
              "        async function convertToInteractive(key) {\n",
              "          const element = document.querySelector('#df-fa09f221-ed89-481d-81e4-bfe4ff68aac3');\n",
              "          const dataTable =\n",
              "            await google.colab.kernel.invokeFunction('convertToInteractive',\n",
              "                                                     [key], {});\n",
              "          if (!dataTable) return;\n",
              "\n",
              "          const docLinkHtml = 'Like what you see? Visit the ' +\n",
              "            '<a target=\"_blank\" href=https://colab.research.google.com/notebooks/data_table.ipynb>data table notebook</a>'\n",
              "            + ' to learn more about interactive tables.';\n",
              "          element.innerHTML = '';\n",
              "          dataTable['output_type'] = 'display_data';\n",
              "          await google.colab.output.renderOutput(dataTable, element);\n",
              "          const docLink = document.createElement('div');\n",
              "          docLink.innerHTML = docLinkHtml;\n",
              "          element.appendChild(docLink);\n",
              "        }\n",
              "      </script>\n",
              "    </div>\n",
              "  </div>\n",
              "  "
            ]
          },
          "metadata": {},
          "execution_count": 14
        }
      ],
      "source": [
        "import yfinance as yf\n",
        "import numpy as np\n",
        "selected_stocks_data = yf.download(my_assets, start = '2011-1-1', end = '2015-12-31')['Adj Close']\n",
        "selected_stocks_data.head()"
      ]
    },
    {
      "cell_type": "code",
      "execution_count": null,
      "id": "88f6494d",
      "metadata": {
        "id": "88f6494d"
      },
      "outputs": [],
      "source": []
    },
    {
      "cell_type": "code",
      "execution_count": null,
      "id": "Wycd2cona3uF",
      "metadata": {
        "colab": {
          "base_uri": "https://localhost:8080/",
          "height": 237
        },
        "id": "Wycd2cona3uF",
        "outputId": "2e5dba92-7e8a-492e-afd1-28919ec4c3be"
      },
      "outputs": [
        {
          "output_type": "execute_result",
          "data": {
            "text/plain": [
              "                AAPL       MCD      MSFT       NKE\n",
              "Date                                              \n",
              "2011-01-03       NaN       NaN       NaN       NaN\n",
              "2011-01-04  0.005205 -0.030351  0.003924 -0.024933\n",
              "2011-01-05  0.008147  0.004699 -0.003209  0.006529\n",
              "2011-01-06 -0.000809 -0.006046  0.028865 -0.009033\n",
              "2011-01-07  0.007136  0.002154 -0.007663 -0.002749"
            ],
            "text/html": [
              "\n",
              "  <div id=\"df-5354f2b8-bf4d-4753-8c79-7961472a870b\">\n",
              "    <div class=\"colab-df-container\">\n",
              "      <div>\n",
              "<style scoped>\n",
              "    .dataframe tbody tr th:only-of-type {\n",
              "        vertical-align: middle;\n",
              "    }\n",
              "\n",
              "    .dataframe tbody tr th {\n",
              "        vertical-align: top;\n",
              "    }\n",
              "\n",
              "    .dataframe thead th {\n",
              "        text-align: right;\n",
              "    }\n",
              "</style>\n",
              "<table border=\"1\" class=\"dataframe\">\n",
              "  <thead>\n",
              "    <tr style=\"text-align: right;\">\n",
              "      <th></th>\n",
              "      <th>AAPL</th>\n",
              "      <th>MCD</th>\n",
              "      <th>MSFT</th>\n",
              "      <th>NKE</th>\n",
              "    </tr>\n",
              "    <tr>\n",
              "      <th>Date</th>\n",
              "      <th></th>\n",
              "      <th></th>\n",
              "      <th></th>\n",
              "      <th></th>\n",
              "    </tr>\n",
              "  </thead>\n",
              "  <tbody>\n",
              "    <tr>\n",
              "      <th>2011-01-03</th>\n",
              "      <td>NaN</td>\n",
              "      <td>NaN</td>\n",
              "      <td>NaN</td>\n",
              "      <td>NaN</td>\n",
              "    </tr>\n",
              "    <tr>\n",
              "      <th>2011-01-04</th>\n",
              "      <td>0.005205</td>\n",
              "      <td>-0.030351</td>\n",
              "      <td>0.003924</td>\n",
              "      <td>-0.024933</td>\n",
              "    </tr>\n",
              "    <tr>\n",
              "      <th>2011-01-05</th>\n",
              "      <td>0.008147</td>\n",
              "      <td>0.004699</td>\n",
              "      <td>-0.003209</td>\n",
              "      <td>0.006529</td>\n",
              "    </tr>\n",
              "    <tr>\n",
              "      <th>2011-01-06</th>\n",
              "      <td>-0.000809</td>\n",
              "      <td>-0.006046</td>\n",
              "      <td>0.028865</td>\n",
              "      <td>-0.009033</td>\n",
              "    </tr>\n",
              "    <tr>\n",
              "      <th>2011-01-07</th>\n",
              "      <td>0.007136</td>\n",
              "      <td>0.002154</td>\n",
              "      <td>-0.007663</td>\n",
              "      <td>-0.002749</td>\n",
              "    </tr>\n",
              "  </tbody>\n",
              "</table>\n",
              "</div>\n",
              "      <button class=\"colab-df-convert\" onclick=\"convertToInteractive('df-5354f2b8-bf4d-4753-8c79-7961472a870b')\"\n",
              "              title=\"Convert this dataframe to an interactive table.\"\n",
              "              style=\"display:none;\">\n",
              "        \n",
              "  <svg xmlns=\"http://www.w3.org/2000/svg\" height=\"24px\"viewBox=\"0 0 24 24\"\n",
              "       width=\"24px\">\n",
              "    <path d=\"M0 0h24v24H0V0z\" fill=\"none\"/>\n",
              "    <path d=\"M18.56 5.44l.94 2.06.94-2.06 2.06-.94-2.06-.94-.94-2.06-.94 2.06-2.06.94zm-11 1L8.5 8.5l.94-2.06 2.06-.94-2.06-.94L8.5 2.5l-.94 2.06-2.06.94zm10 10l.94 2.06.94-2.06 2.06-.94-2.06-.94-.94-2.06-.94 2.06-2.06.94z\"/><path d=\"M17.41 7.96l-1.37-1.37c-.4-.4-.92-.59-1.43-.59-.52 0-1.04.2-1.43.59L10.3 9.45l-7.72 7.72c-.78.78-.78 2.05 0 2.83L4 21.41c.39.39.9.59 1.41.59.51 0 1.02-.2 1.41-.59l7.78-7.78 2.81-2.81c.8-.78.8-2.07 0-2.86zM5.41 20L4 18.59l7.72-7.72 1.47 1.35L5.41 20z\"/>\n",
              "  </svg>\n",
              "      </button>\n",
              "      \n",
              "  <style>\n",
              "    .colab-df-container {\n",
              "      display:flex;\n",
              "      flex-wrap:wrap;\n",
              "      gap: 12px;\n",
              "    }\n",
              "\n",
              "    .colab-df-convert {\n",
              "      background-color: #E8F0FE;\n",
              "      border: none;\n",
              "      border-radius: 50%;\n",
              "      cursor: pointer;\n",
              "      display: none;\n",
              "      fill: #1967D2;\n",
              "      height: 32px;\n",
              "      padding: 0 0 0 0;\n",
              "      width: 32px;\n",
              "    }\n",
              "\n",
              "    .colab-df-convert:hover {\n",
              "      background-color: #E2EBFA;\n",
              "      box-shadow: 0px 1px 2px rgba(60, 64, 67, 0.3), 0px 1px 3px 1px rgba(60, 64, 67, 0.15);\n",
              "      fill: #174EA6;\n",
              "    }\n",
              "\n",
              "    [theme=dark] .colab-df-convert {\n",
              "      background-color: #3B4455;\n",
              "      fill: #D2E3FC;\n",
              "    }\n",
              "\n",
              "    [theme=dark] .colab-df-convert:hover {\n",
              "      background-color: #434B5C;\n",
              "      box-shadow: 0px 1px 3px 1px rgba(0, 0, 0, 0.15);\n",
              "      filter: drop-shadow(0px 1px 2px rgba(0, 0, 0, 0.3));\n",
              "      fill: #FFFFFF;\n",
              "    }\n",
              "  </style>\n",
              "\n",
              "      <script>\n",
              "        const buttonEl =\n",
              "          document.querySelector('#df-5354f2b8-bf4d-4753-8c79-7961472a870b button.colab-df-convert');\n",
              "        buttonEl.style.display =\n",
              "          google.colab.kernel.accessAllowed ? 'block' : 'none';\n",
              "\n",
              "        async function convertToInteractive(key) {\n",
              "          const element = document.querySelector('#df-5354f2b8-bf4d-4753-8c79-7961472a870b');\n",
              "          const dataTable =\n",
              "            await google.colab.kernel.invokeFunction('convertToInteractive',\n",
              "                                                     [key], {});\n",
              "          if (!dataTable) return;\n",
              "\n",
              "          const docLinkHtml = 'Like what you see? Visit the ' +\n",
              "            '<a target=\"_blank\" href=https://colab.research.google.com/notebooks/data_table.ipynb>data table notebook</a>'\n",
              "            + ' to learn more about interactive tables.';\n",
              "          element.innerHTML = '';\n",
              "          dataTable['output_type'] = 'display_data';\n",
              "          await google.colab.output.renderOutput(dataTable, element);\n",
              "          const docLink = document.createElement('div');\n",
              "          docLink.innerHTML = docLinkHtml;\n",
              "          element.appendChild(docLink);\n",
              "        }\n",
              "      </script>\n",
              "    </div>\n",
              "  </div>\n",
              "  "
            ]
          },
          "metadata": {},
          "execution_count": 15
        }
      ],
      "source": [
        "log_return = np.log(selected_stocks_data/selected_stocks_data.shift(1))\n",
        "log_return.head()"
      ]
    },
    {
      "cell_type": "code",
      "execution_count": null,
      "id": "Z777wklLKMii",
      "metadata": {
        "colab": {
          "base_uri": "https://localhost:8080/"
        },
        "id": "Z777wklLKMii",
        "outputId": "c1a9fc06-5d9a-4f60-ec91-b8fa7b83ceaa"
      },
      "outputs": [
        {
          "output_type": "stream",
          "name": "stdout",
          "text": [
            "normalised weights :\n",
            "[0.19919464 0.24453105 0.31273134 0.24354297]\n"
          ]
        }
      ],
      "source": [
        "import numpy as np\n",
        "weights = np.array(np.random.random(len(my_assets)))\n",
        "\n",
        "print('normalised weights :')\n",
        "weights = weights/np.sum(weights)\n",
        "print(weights)"
      ]
    },
    {
      "cell_type": "code",
      "execution_count": null,
      "id": "73zSFkttOq9_",
      "metadata": {
        "id": "73zSFkttOq9_"
      },
      "outputs": [],
      "source": [
        "from scipy.optimize import minimize\n",
        "\n",
        "def get_ret_vol_sr(weights): \n",
        "    weights = np.array(weights)\n",
        "    ret = np.sum(log_return.mean() * weights) * 252\n",
        "    vol = np.sqrt(np.dot(weights.T,np.dot(log_return.cov()*252,weights)))\n",
        "    sr = ret/vol \n",
        "    return np.array(sr)\n",
        "    \n",
        "\n",
        "# minimize negative Sharpe Ratio\n",
        "def neg_sharpe(weights): \n",
        "    return get_ret_vol_sr(weights)*-1\n",
        "\n",
        "# check allocation sums to 1\n",
        "def check_sum(weights): \n",
        "    return np.sum(weights) - 1"
      ]
    },
    {
      "cell_type": "code",
      "execution_count": null,
      "id": "VxR0DeiePMwW",
      "metadata": {
        "id": "VxR0DeiePMwW"
      },
      "outputs": [],
      "source": [
        "# create constraint variable\n",
        "cons = ({'type':'eq','fun':check_sum})"
      ]
    },
    {
      "cell_type": "code",
      "execution_count": null,
      "id": "N7fr03-cPcSt",
      "metadata": {
        "id": "N7fr03-cPcSt"
      },
      "outputs": [],
      "source": [
        "# create weight boundaries\n",
        "bounds = tuple((0, 1) for stocks in range(len(my_assets)))"
      ]
    },
    {
      "cell_type": "code",
      "execution_count": null,
      "id": "w9tCkv_cQ6Xr",
      "metadata": {
        "id": "w9tCkv_cQ6Xr"
      },
      "outputs": [],
      "source": [
        "# initial guess\n",
        "# init_guess = [0.1 for stocks in range(len(my_assets))]\n",
        "init_guess = [0.3, 0.4, 0.2, 0.1]\n",
        "# tuple((0, 1) for stocks in range(len(my_assets)))"
      ]
    },
    {
      "cell_type": "code",
      "execution_count": null,
      "id": "1XtwTtMMSmeL",
      "metadata": {
        "colab": {
          "base_uri": "https://localhost:8080/"
        },
        "id": "1XtwTtMMSmeL",
        "outputId": "a80cb7ff-8970-4d3a-c008-9b058c8a9c5b"
      },
      "outputs": [
        {
          "output_type": "execute_result",
          "data": {
            "text/plain": [
              "-1.0781880996241726"
            ]
          },
          "metadata": {},
          "execution_count": 25
        }
      ],
      "source": [
        "neg_sharpe(weights)"
      ]
    },
    {
      "cell_type": "code",
      "execution_count": null,
      "id": "azJ6BBaOQ943",
      "metadata": {
        "id": "azJ6BBaOQ943",
        "colab": {
          "base_uri": "https://localhost:8080/"
        },
        "outputId": "d5e0924d-47b1-4dca-a768-78432d961495"
      },
      "outputs": [
        {
          "output_type": "execute_result",
          "data": {
            "text/plain": [
              "     fun: -1.1193101005509367\n",
              "     jac: array([ 1.18240714e-04, -7.23764300e-04,  7.60108232e-05,  4.80696559e-04])\n",
              " message: 'Optimization terminated successfully'\n",
              "    nfev: 31\n",
              "     nit: 6\n",
              "    njev: 6\n",
              "  status: 0\n",
              " success: True\n",
              "       x: array([0.15858806, 0.30258072, 0.1480147 , 0.39081653])"
            ]
          },
          "metadata": {},
          "execution_count": 26
        }
      ],
      "source": [
        "# from scipy.optimize import minimize\n",
        "opt_results = minimize(neg_sharpe, init_guess, method='SLSQP', bounds=bounds, constraints=cons)\n",
        "opt_results"
      ]
    },
    {
      "cell_type": "code",
      "execution_count": null,
      "id": "KXW0qoxzbdin",
      "metadata": {
        "id": "KXW0qoxzbdin"
      },
      "outputs": [],
      "source": [
        "my_weights = np.array(opt_results.x)\n",
        "my_weights = my_weights.tolist()"
      ]
    },
    {
      "cell_type": "code",
      "execution_count": null,
      "id": "LzzQFJCpRBLh",
      "metadata": {
        "colab": {
          "base_uri": "https://localhost:8080/"
        },
        "id": "LzzQFJCpRBLh",
        "outputId": "72c3ade3-f4ee-499d-955d-8417dbdd143d"
      },
      "outputs": [
        {
          "output_type": "execute_result",
          "data": {
            "text/plain": [
              "1.0"
            ]
          },
          "metadata": {},
          "execution_count": 28
        }
      ],
      "source": [
        "tot_weights = np.sum(my_weights)\n",
        "tot_weights"
      ]
    },
    {
      "cell_type": "code",
      "execution_count": null,
      "id": "8rIfmjrMbZJJ",
      "metadata": {
        "colab": {
          "base_uri": "https://localhost:8080/"
        },
        "id": "8rIfmjrMbZJJ",
        "outputId": "8524f324-0d80-4b14-c610-f875dc911b80"
      },
      "outputs": [
        {
          "output_type": "execute_result",
          "data": {
            "text/plain": [
              "{'MSFT': 0.1585880592239264,\n",
              " 'AAPL': 0.30258071805433095,\n",
              " 'MCD': 0.14801469517224883,\n",
              " 'NKE': 0.3908165275494939}"
            ]
          },
          "metadata": {},
          "execution_count": 29
        }
      ],
      "source": [
        "weights_alloc = dict(zip(my_assets, my_weights))\n",
        "weights_alloc"
      ]
    },
    {
      "cell_type": "code",
      "execution_count": null,
      "id": "83scUJt0fhBp",
      "metadata": {
        "colab": {
          "base_uri": "https://localhost:8080/"
        },
        "id": "83scUJt0fhBp",
        "outputId": "ec80cf3f-f3fe-4cdc-d99e-12195d0aba88"
      },
      "outputs": [
        {
          "output_type": "execute_result",
          "data": {
            "text/plain": [
              "['MSFT', 'AAPL', 'MCD', 'NKE']"
            ]
          },
          "metadata": {},
          "execution_count": 30
        }
      ],
      "source": [
        "my_assets"
      ]
    },
    {
      "cell_type": "code",
      "execution_count": null,
      "id": "3qXicxqgfesq",
      "metadata": {
        "colab": {
          "base_uri": "https://localhost:8080/"
        },
        "id": "3qXicxqgfesq",
        "outputId": "1545a585-7479-40c1-c3da-6b48a5d4172c"
      },
      "outputs": [
        {
          "output_type": "stream",
          "name": "stdout",
          "text": [
            "sharpe ratio of your porrtfolio after optimization is  1.1380808932540858\n"
          ]
        }
      ],
      "source": [
        "ret = np.sum(log_return.mean() * my_weights) * 252 # returns of a portfolio after optimum weight allocation\n",
        "vol = np.sqrt(np.dot(weights.T,np.dot(log_return.cov()*252,my_weights))) # risk of a portfolio after optimum weight allocation\n",
        "sharpe_ratio = ret/vol # sharpe ratio of a portfolio after optimum weight allocation\n",
        "print(\"sharpe ratio of your porrtfolio after optimization is \", sharpe_ratio)\n",
        "\n",
        "risk_ret_dict_of_quantum = {\n",
        "    'returns' : ret*100,\n",
        "    'risk' : vol*100, \n",
        "    'sharpe_ratio' : sharpe_ratio \n",
        "}"
      ]
    },
    {
      "cell_type": "code",
      "execution_count": null,
      "id": "c286190f",
      "metadata": {
        "colab": {
          "base_uri": "https://localhost:8080/"
        },
        "id": "c286190f",
        "outputId": "d3e5f05d-3df7-4b63-841a-072093b7f2f7"
      },
      "outputs": [
        {
          "output_type": "execute_result",
          "data": {
            "text/plain": [
              "{'returns': 17.97790173262165,\n",
              " 'risk': 15.796681799320867,\n",
              " 'sharpe_ratio': 1.1380808932540858}"
            ]
          },
          "metadata": {},
          "execution_count": 32
        }
      ],
      "source": [
        "risk_ret_dict_of_quantum"
      ]
    },
    {
      "cell_type": "code",
      "execution_count": null,
      "id": "OphZn6Dwf8xY",
      "metadata": {
        "colab": {
          "base_uri": "https://localhost:8080/",
          "height": 248
        },
        "id": "OphZn6Dwf8xY",
        "outputId": "3f7d92be-f066-4c08-c6e3-446688630de7"
      },
      "outputs": [
        {
          "output_type": "display_data",
          "data": {
            "text/plain": [
              "<Figure size 432x288 with 1 Axes>"
            ],
            "image/png": "[encoded data removed]"
          },
          "metadata": {}
        }
      ],
      "source": [
        "import matplotlib.pyplot as plt\n",
        "import numpy as np\n",
        "\n",
        "y = np.array(weights)\n",
        "mylabels = my_assets\n",
        "\n",
        "plt.pie(y, labels = mylabels)\n",
        "plt.show()"
      ]
    },
    {
      "cell_type": "code",
      "execution_count": null,
      "id": "AphQCFMkgFW8",
      "metadata": {
        "id": "AphQCFMkgFW8"
      },
      "outputs": [],
      "source": [
        "# 4_stocks= [\"JPM\", \"GS\", \"MSFT\", \"WMT\"]\n",
        "# 6_stocks= [\"JPM\", \"GS\", \"MSFT\", \"AAPL\", \"WMT\", \"MCD\"]\n",
        "# 8_stocks= [\"JPM\", \"GS\", \"MSFT\", \"AAPL\", \"KO\", \"WMT\", \"MCD\", \"NKE\"]\n",
        "# 10_stocks=[\"JPM\", \"GS\", \"MSFT\", \"AAPL\", \"KO\", \"WMT\", \"DIS\", \"BA\", \"MCD\", \"NKE\"]"
      ]
    },
    {
      "cell_type": "markdown",
      "id": "edeb8003",
      "metadata": {
        "id": "edeb8003"
      },
      "source": []
    },
    {
      "cell_type": "markdown",
      "id": "4dc63729",
      "metadata": {
        "id": "4dc63729"
      },
      "source": [
        "## MPT CODE to benchmark "
      ]
    },
    {
      "cell_type": "markdown",
      "id": "029a01f8",
      "metadata": {
        "id": "029a01f8"
      },
      "source": []
    },
    {
      "cell_type": "code",
      "execution_count": null,
      "id": "d86fcc3b",
      "metadata": {
        "id": "d86fcc3b"
      },
      "outputs": [],
      "source": []
    },
    {
      "cell_type": "code",
      "execution_count": null,
      "id": "0b89224d",
      "metadata": {
        "id": "0b89224d"
      },
      "outputs": [],
      "source": []
    },
    {
      "cell_type": "code",
      "execution_count": null,
      "id": "3908c9eb",
      "metadata": {
        "id": "3908c9eb"
      },
      "outputs": [],
      "source": [
        "import numpy as np\n",
        "import yfinance as yf\n",
        "import pandas as pd\n",
        "import matplotlib.pyplot as plt\n",
        "import scipy.optimize as optimization"
      ]
    },
    {
      "cell_type": "code",
      "execution_count": null,
      "id": "3e35d96d",
      "metadata": {
        "id": "3e35d96d"
      },
      "outputs": [],
      "source": [
        "NUM_TRADING_DAYS = 252 #252*5 cosnidered previously, now I'm just taing for 1 year\n",
        "NUM_PORTFOLIOS = 10000\n",
        "stocks =  [\"JPM\", \"GS\", \"MSFT\", \"AAPL\", \"KO\", \"WMT\", \"MCD\", \"NKE\"]"
      ]
    },
    {
      "cell_type": "code",
      "execution_count": null,
      "id": "9afa958f",
      "metadata": {
        "id": "9afa958f"
      },
      "outputs": [],
      "source": [
        "start_date = '2011-01-01' # YY/MM/DD\n",
        "end_date = '2015-12-31'   # YY/MM/DD"
      ]
    },
    {
      "cell_type": "code",
      "execution_count": null,
      "id": "b9817251",
      "metadata": {
        "id": "b9817251"
      },
      "outputs": [],
      "source": [
        "def download_data():\n",
        "    stock_data = {}\n",
        "    for stock in stocks:\n",
        "        ticker = yf.Ticker(stock)\n",
        "        stock_data[stock] = ticker.history(start=start_date, end=end_date, )['Close']\n",
        "\n",
        "    return pd.DataFrame(stock_data)"
      ]
    },
    {
      "cell_type": "code",
      "execution_count": null,
      "id": "d7b68df6",
      "metadata": {
        "id": "d7b68df6"
      },
      "outputs": [],
      "source": [
        "def show_data(data):\n",
        "    data.plot(figsize=(8, 5))\n",
        "    plt.show()\n",
        "\n",
        "# show_data(data)"
      ]
    },
    {
      "cell_type": "code",
      "execution_count": null,
      "id": "a1a9ee73",
      "metadata": {
        "id": "a1a9ee73"
      },
      "outputs": [],
      "source": [
        "def calculate_return(data):\n",
        "    log_return = np.log(data / data.shift(1))\n",
        "    return log_return[1:]"
      ]
    },
    {
      "cell_type": "code",
      "execution_count": null,
      "id": "12ffb68c",
      "metadata": {
        "id": "12ffb68c"
      },
      "outputs": [],
      "source": [
        "def show_statistics(returns):\n",
        "    print(returns.mean() * NUM_TRADING_DAYS)\n",
        "    print(returns.cov() * NUM_TRADING_DAYS)"
      ]
    },
    {
      "cell_type": "code",
      "execution_count": null,
      "id": "d67fd74b",
      "metadata": {
        "id": "d67fd74b"
      },
      "outputs": [],
      "source": [
        "def show_mean_variance(returns, weights):\n",
        "    portfolio_return = np.sum(returns.mean() * weights) * NUM_TRADING_DAYS\n",
        "    portfolio_volatility = np.sqrt(np.dot(weights, np.dot(returns.cov() * NUM_TRADING_DAYS, weights)))\n",
        "    print('Expected portfolio mean: ', portfolio_return)\n",
        "    print('Expected portfolio volatility: ', portfolio_volatility)\n",
        "    print(\"sharpe ratio of a portfolio is \", portfolio_return/portfolio_volatility)"
      ]
    },
    {
      "cell_type": "code",
      "execution_count": null,
      "id": "6bfb8545",
      "metadata": {
        "id": "6bfb8545"
      },
      "outputs": [],
      "source": [
        "def show_portfolios(returns, volatilities):\n",
        "    plt.figure(figsize=(8, 5))\n",
        "    plt.scatter(volatilities, returns, c=returns / volatilities, marker='o')\n",
        "    plt.grid(True)\n",
        "    plt.xlabel('Expected Volatility')\n",
        "    plt.ylabel('Expected Return')\n",
        "    plt.colorbar(label='Sharpe Ratio')\n",
        "    plt.show()"
      ]
    },
    {
      "cell_type": "code",
      "execution_count": null,
      "id": "272e2b8f",
      "metadata": {
        "id": "272e2b8f"
      },
      "outputs": [],
      "source": [
        "def generate_portfolios(returns):\n",
        "    portfolio_means = []\n",
        "    portfolio_risks = []\n",
        "    portfolio_weights = []"
      ]
    },
    {
      "cell_type": "code",
      "execution_count": null,
      "id": "3a425e98",
      "metadata": {
        "id": "3a425e98"
      },
      "outputs": [],
      "source": [
        "def generate_portfolios(returns):\n",
        "    portfolio_means = []\n",
        "    portfolio_risks = []\n",
        "    portfolio_weights = []\n",
        "\n",
        "    for _ in range(NUM_PORTFOLIOS):\n",
        "        w = np.random.random(len(stocks))\n",
        "        w /= np.sum(w)\n",
        "        portfolio_weights.append(w)\n",
        "        portfolio_means.append(np.sum(returns.mean() * w) * NUM_TRADING_DAYS)\n",
        "        portfolio_risks.append(np.sqrt(np.dot(w.T, np.dot(returns.cov() * NUM_TRADING_DAYS, w))))\n",
        "\n",
        "    return np.array(portfolio_weights), np.array(portfolio_means), np.array(portfolio_risks)"
      ]
    },
    {
      "cell_type": "code",
      "execution_count": null,
      "id": "7d1e8c11",
      "metadata": {
        "id": "7d1e8c11"
      },
      "outputs": [],
      "source": [
        "def statistics(weights, returns):\n",
        "    portfolio_return = np.sum(returns.mean() * weights) * NUM_TRADING_DAYS\n",
        "    portfolio_volatility = np.sqrt(np.dot(weights.T, np.dot(returns.cov() * NUM_TRADING_DAYS, weights)))\n",
        "\n",
        "    return np.array([portfolio_return, portfolio_volatility, portfolio_return / portfolio_volatility])"
      ]
    },
    {
      "cell_type": "code",
      "execution_count": null,
      "id": "0c3d9392",
      "metadata": {
        "id": "0c3d9392"
      },
      "outputs": [],
      "source": [
        "def min_function_sharpe(weights, returns):\n",
        "    return -statistics(weights, returns)[2]"
      ]
    },
    {
      "cell_type": "code",
      "execution_count": null,
      "id": "33a6fa02",
      "metadata": {
        "id": "33a6fa02"
      },
      "outputs": [],
      "source": [
        "def optimize_portfolio(weights, returns):\n",
        "    constraints = {'type': 'eq', 'fun': lambda x: np.sum(x) - 1}\n",
        "    bounds = tuple((0, 1) for _ in range(len(stocks)))\n",
        "    return optimization.minimize(fun=min_function_sharpe, x0=weights[0], args=returns, method='SLSQP',\n",
        "                                 bounds=bounds, constraints=constraints)\n"
      ]
    },
    {
      "cell_type": "code",
      "execution_count": null,
      "id": "38b881aa",
      "metadata": {
        "id": "38b881aa"
      },
      "outputs": [],
      "source": [
        "def print_optimal_portfolio(optimum, returns):\n",
        "    print('Optimal Portfolio: ', optimum['x'].round(3))\n",
        "    print('Expected return, volatility and sharpe ratio: ', statistics(optimum['x'].round(3), returns))\n"
      ]
    },
    {
      "cell_type": "code",
      "execution_count": null,
      "id": "ccc92332",
      "metadata": {
        "id": "ccc92332"
      },
      "outputs": [],
      "source": [
        "def show_optimal_portfolio(opt, rets, portfolio_rets, portfolio_vols):\n",
        "    plt.figure(figsize=(8, 5))\n",
        "    plt.scatter(portfolio_vols, portfolio_rets, c=portfolio_rets / portfolio_vols, marker='o')\n",
        "    plt.grid(True)\n",
        "    plt.xlabel('Expected Volatility')\n",
        "    plt.ylabel('Expected Return')\n",
        "    plt.colorbar(label='Sharpe Ratio')\n",
        "    plt.plot(statistics(opt['x'], rets)[1], statistics(opt['x'], rets)[0], 'g*', markersize=20.0)\n",
        "    plt.show()\n"
      ]
    },
    {
      "cell_type": "code",
      "execution_count": null,
      "id": "bfc3a6c3",
      "metadata": {
        "colab": {
          "base_uri": "https://localhost:8080/",
          "height": 991
        },
        "id": "bfc3a6c3",
        "outputId": "921ffdf4-c8af-4114-e068-96d9035c1e2b"
      },
      "outputs": [
        {
          "output_type": "display_data",
          "data": {
            "text/plain": [
              "<Figure size 576x360 with 1 Axes>"
            ],
            "image/png": "[encoded data removed]"
          },
          "metadata": {
            "needs_background": "light"
          }
        },
        {
          "output_type": "display_data",
          "data": {
            "text/plain": [
              "<Figure size 576x360 with 2 Axes>"
            ],
            "image/png": "[encoded data removed]"
          },
          "metadata": {
            "needs_background": "light"
          }
        },
        {
          "output_type": "stream",
          "name": "stdout",
          "text": [
            "Optimal Portfolio:  [0.    0.    0.148 0.159 0.    0.    0.303 0.391]\n",
            "Expected return, volatility and sharpe ratio:  [0.17994354 0.16076306 1.11930897]\n"
          ]
        },
        {
          "output_type": "display_data",
          "data": {
            "text/plain": [
              "<Figure size 576x360 with 2 Axes>"
            ],
            "image/png": "[encoded data removed]"
          },
          "metadata": {
            "needs_background": "light"
          }
        }
      ],
      "source": [
        "if __name__ == '__main__':\n",
        "    # print(download_data())\n",
        "    dataset = download_data()\n",
        "    show_data(dataset)\n",
        "    log_daily_returns = calculate_return(dataset)\n",
        "    # show_statistics(log_daily_returns)\n",
        "    # show_mean_variance(log_daily_returns, [0.1, 0.2, 0.3, 0.2, 0.1, 0.1])\n",
        "    pweights, means, risks = generate_portfolios(log_daily_returns)\n",
        "    show_portfolios(means, risks)\n",
        "    optimum = optimize_portfolio(pweights, log_daily_returns)\n",
        "    print_optimal_portfolio(optimum, log_daily_returns)\n",
        "    show_optimal_portfolio(optimum, log_daily_returns, means, risks)"
      ]
    },
    {
      "cell_type": "code",
      "source": [
        "risk_ret_dict_of_quantum"
      ],
      "metadata": {
        "colab": {
          "base_uri": "https://localhost:8080/"
        },
        "id": "NRfI43gtrj9z",
        "outputId": "6a976a9e-134c-42a9-c461-c75a65e1542e"
      },
      "id": "NRfI43gtrj9z",
      "execution_count": null,
      "outputs": [
        {
          "output_type": "execute_result",
          "data": {
            "text/plain": [
              "{'returns': 17.97790173262165,\n",
              " 'risk': 15.796681799320867,\n",
              " 'sharpe_ratio': 1.1380808932540858}"
            ]
          },
          "metadata": {},
          "execution_count": 69
        }
      ]
    },
    {
      "cell_type": "code",
      "source": [],
      "metadata": {
        "id": "NIUzraWRpITm"
      },
      "id": "NIUzraWRpITm",
      "execution_count": null,
      "outputs": []
    }
  ],
  "metadata": {
    "colab": {
      "collapsed_sections": [],
      "provenance": []
    },
    "kernelspec": {
      "display_name": "Python 3.8.0 ('quantum-qiskit')",
      "language": "python",
      "name": "python3"
    },
    "language_info": {
      "codemirror_mode": {
        "name": "ipython",
        "version": 3
      },
      "file_extension": ".py",
      "mimetype": "text/x-python",
      "name": "python",
      "nbconvert_exporter": "python",
      "pygments_lexer": "ipython3",
      "version": "3.8.0"
    },
    "vscode": {
      "interpreter": {
        "hash": "22cb6fd05822f170cc2b76bad925994d7e6c545045ad3bc53e0ea083a8e23cc4"
      }
    }
  },
  "nbformat": 4,
  "nbformat_minor": 5
}